{
 "cells": [
  {
   "cell_type": "code",
   "execution_count": 5,
   "metadata": {},
   "outputs": [],
   "source": [
    "import pandas as pd\n",
    "import numpy as np\n",
    "import statsmodels.api as sm\n",
    "import matplotlib.pyplot as plt\n",
    "\n",
    "from os import listdir\n",
    "from IPython.display import Markdown, display"
   ]
  },
  {
   "cell_type": "code",
   "execution_count": 6,
   "metadata": {},
   "outputs": [
    {
     "data": {
      "text/html": [
       "<div>\n",
       "<style scoped>\n",
       "    .dataframe tbody tr th:only-of-type {\n",
       "        vertical-align: middle;\n",
       "    }\n",
       "\n",
       "    .dataframe tbody tr th {\n",
       "        vertical-align: top;\n",
       "    }\n",
       "\n",
       "    .dataframe thead th {\n",
       "        text-align: right;\n",
       "    }\n",
       "</style>\n",
       "<table border=\"1\" class=\"dataframe\">\n",
       "  <thead>\n",
       "    <tr style=\"text-align: right;\">\n",
       "      <th></th>\n",
       "      <th>Date</th>\n",
       "      <th>Price</th>\n",
       "      <th>Open</th>\n",
       "      <th>High</th>\n",
       "      <th>Low</th>\n",
       "      <th>Vol.</th>\n",
       "      <th>Change %</th>\n",
       "    </tr>\n",
       "  </thead>\n",
       "  <tbody>\n",
       "    <tr>\n",
       "      <th>0</th>\n",
       "      <td>Jul 26, 2018</td>\n",
       "      <td>70,905.41</td>\n",
       "      <td>70,739.95</td>\n",
       "      <td>70,974.28</td>\n",
       "      <td>69,962.84</td>\n",
       "      <td>69.75K</td>\n",
       "      <td>2.35%</td>\n",
       "    </tr>\n",
       "    <tr>\n",
       "      <th>1</th>\n",
       "      <td>Jul 24, 2018</td>\n",
       "      <td>69,278.08</td>\n",
       "      <td>67,506.27</td>\n",
       "      <td>69,514.85</td>\n",
       "      <td>67,426.78</td>\n",
       "      <td>60.22K</td>\n",
       "      <td>2.77%</td>\n",
       "    </tr>\n",
       "    <tr>\n",
       "      <th>2</th>\n",
       "      <td>Jul 23, 2018</td>\n",
       "      <td>67,407.85</td>\n",
       "      <td>68,903.58</td>\n",
       "      <td>68,903.78</td>\n",
       "      <td>67,250.30</td>\n",
       "      <td>36.16K</td>\n",
       "      <td>-2.15%</td>\n",
       "    </tr>\n",
       "    <tr>\n",
       "      <th>3</th>\n",
       "      <td>Jul 20, 2018</td>\n",
       "      <td>68,889.46</td>\n",
       "      <td>69,952.78</td>\n",
       "      <td>69,952.78</td>\n",
       "      <td>68,726.91</td>\n",
       "      <td>68.66K</td>\n",
       "      <td>-1.42%</td>\n",
       "    </tr>\n",
       "    <tr>\n",
       "      <th>4</th>\n",
       "      <td>Jul 19, 2018</td>\n",
       "      <td>69,885.32</td>\n",
       "      <td>68,661.73</td>\n",
       "      <td>70,047.15</td>\n",
       "      <td>68,661.73</td>\n",
       "      <td>94.85K</td>\n",
       "      <td>2.68%</td>\n",
       "    </tr>\n",
       "  </tbody>\n",
       "</table>\n",
       "</div>"
      ],
      "text/plain": [
       "           Date      Price       Open       High        Low    Vol. Change %\n",
       "0  Jul 26, 2018  70,905.41  70,739.95  70,974.28  69,962.84  69.75K    2.35%\n",
       "1  Jul 24, 2018  69,278.08  67,506.27  69,514.85  67,426.78  60.22K    2.77%\n",
       "2  Jul 23, 2018  67,407.85  68,903.58  68,903.78  67,250.30  36.16K   -2.15%\n",
       "3  Jul 20, 2018  68,889.46  69,952.78  69,952.78  68,726.91  68.66K   -1.42%\n",
       "4  Jul 19, 2018  69,885.32  68,661.73  70,047.15  68,661.73  94.85K    2.68%"
      ]
     },
     "execution_count": 6,
     "metadata": {},
     "output_type": "execute_result"
    }
   ],
   "source": [
    "kmi = pd.read_csv('Karachi Meezan 30 Historical Data.csv')\n",
    "\n",
    "kmi.head()"
   ]
  },
  {
   "cell_type": "code",
   "execution_count": 7,
   "metadata": {},
   "outputs": [
    {
     "data": {
      "text/html": [
       "<div>\n",
       "<style scoped>\n",
       "    .dataframe tbody tr th:only-of-type {\n",
       "        vertical-align: middle;\n",
       "    }\n",
       "\n",
       "    .dataframe tbody tr th {\n",
       "        vertical-align: top;\n",
       "    }\n",
       "\n",
       "    .dataframe thead th {\n",
       "        text-align: right;\n",
       "    }\n",
       "</style>\n",
       "<table border=\"1\" class=\"dataframe\">\n",
       "  <thead>\n",
       "    <tr style=\"text-align: right;\">\n",
       "      <th></th>\n",
       "      <th>Date</th>\n",
       "      <th>Price</th>\n",
       "      <th>Open</th>\n",
       "      <th>High</th>\n",
       "      <th>Low</th>\n",
       "      <th>Change %</th>\n",
       "    </tr>\n",
       "  </thead>\n",
       "  <tbody>\n",
       "    <tr>\n",
       "      <th>0</th>\n",
       "      <td>Jun 26, 2018</td>\n",
       "      <td>8.949</td>\n",
       "      <td>8.949</td>\n",
       "      <td>8.949</td>\n",
       "      <td>8.949</td>\n",
       "      <td>-0.01%</td>\n",
       "    </tr>\n",
       "    <tr>\n",
       "      <th>1</th>\n",
       "      <td>Jun 25, 2018</td>\n",
       "      <td>8.950</td>\n",
       "      <td>8.499</td>\n",
       "      <td>8.950</td>\n",
       "      <td>8.499</td>\n",
       "      <td>0.00%</td>\n",
       "    </tr>\n",
       "    <tr>\n",
       "      <th>2</th>\n",
       "      <td>Jun 22, 2018</td>\n",
       "      <td>8.950</td>\n",
       "      <td>8.500</td>\n",
       "      <td>8.950</td>\n",
       "      <td>8.500</td>\n",
       "      <td>5.29%</td>\n",
       "    </tr>\n",
       "    <tr>\n",
       "      <th>3</th>\n",
       "      <td>Jun 21, 2018</td>\n",
       "      <td>8.500</td>\n",
       "      <td>8.500</td>\n",
       "      <td>8.500</td>\n",
       "      <td>8.500</td>\n",
       "      <td>-0.01%</td>\n",
       "    </tr>\n",
       "    <tr>\n",
       "      <th>4</th>\n",
       "      <td>Jun 20, 2018</td>\n",
       "      <td>8.501</td>\n",
       "      <td>8.501</td>\n",
       "      <td>8.501</td>\n",
       "      <td>8.501</td>\n",
       "      <td>0.01%</td>\n",
       "    </tr>\n",
       "  </tbody>\n",
       "</table>\n",
       "</div>"
      ],
      "text/plain": [
       "           Date  Price   Open   High    Low Change %\n",
       "0  Jun 26, 2018  8.949  8.949  8.949  8.949   -0.01%\n",
       "1  Jun 25, 2018  8.950  8.499  8.950  8.499    0.00%\n",
       "2  Jun 22, 2018  8.950  8.500  8.950  8.500    5.29%\n",
       "3  Jun 21, 2018  8.500  8.500  8.500  8.500   -0.01%\n",
       "4  Jun 20, 2018  8.501  8.501  8.501  8.501    0.01%"
      ]
     },
     "execution_count": 7,
     "metadata": {},
     "output_type": "execute_result"
    }
   ],
   "source": [
    "bonds = pd.read_csv('Pakistan 10-Year Bond Yield Historical Data.csv')\n",
    "\n",
    "bonds.head()"
   ]
  },
  {
   "cell_type": "markdown",
   "metadata": {},
   "source": [
    "<h3>Pakistan Internation Bonds</h3>"
   ]
  },
  {
   "cell_type": "code",
   "execution_count": 8,
   "metadata": {},
   "outputs": [],
   "source": [
    "bonds['DailyOpen'] = (bonds['Open']/100)/365\n",
    "bonds['BondsLogReturn'] = np.log(bonds['DailyOpen']).diff() \n",
    "bonds = bonds.drop(0, axis=0)"
   ]
  },
  {
   "cell_type": "code",
   "execution_count": 9,
   "metadata": {},
   "outputs": [
    {
     "data": {
      "text/html": [
       "<div>\n",
       "<style scoped>\n",
       "    .dataframe tbody tr th:only-of-type {\n",
       "        vertical-align: middle;\n",
       "    }\n",
       "\n",
       "    .dataframe tbody tr th {\n",
       "        vertical-align: top;\n",
       "    }\n",
       "\n",
       "    .dataframe thead th {\n",
       "        text-align: right;\n",
       "    }\n",
       "</style>\n",
       "<table border=\"1\" class=\"dataframe\">\n",
       "  <thead>\n",
       "    <tr style=\"text-align: right;\">\n",
       "      <th></th>\n",
       "      <th>Date</th>\n",
       "      <th>Price</th>\n",
       "      <th>Open</th>\n",
       "      <th>High</th>\n",
       "      <th>Low</th>\n",
       "      <th>Change %</th>\n",
       "      <th>DailyOpen</th>\n",
       "      <th>BondsLogReturn</th>\n",
       "    </tr>\n",
       "  </thead>\n",
       "  <tbody>\n",
       "    <tr>\n",
       "      <th>1</th>\n",
       "      <td>Jun 25, 2018</td>\n",
       "      <td>8.95</td>\n",
       "      <td>8.499</td>\n",
       "      <td>8.95</td>\n",
       "      <td>8.499</td>\n",
       "      <td>0.00%</td>\n",
       "      <td>0.000233</td>\n",
       "      <td>-0.051593</td>\n",
       "    </tr>\n",
       "    <tr>\n",
       "      <th>2</th>\n",
       "      <td>Jun 22, 2018</td>\n",
       "      <td>8.95</td>\n",
       "      <td>8.500</td>\n",
       "      <td>8.95</td>\n",
       "      <td>8.500</td>\n",
       "      <td>5.29%</td>\n",
       "      <td>0.000233</td>\n",
       "      <td>0.000118</td>\n",
       "    </tr>\n",
       "    <tr>\n",
       "      <th>3</th>\n",
       "      <td>Jun 21, 2018</td>\n",
       "      <td>8.50</td>\n",
       "      <td>8.500</td>\n",
       "      <td>8.50</td>\n",
       "      <td>8.500</td>\n",
       "      <td>-0.01%</td>\n",
       "      <td>0.000233</td>\n",
       "      <td>0.000000</td>\n",
       "    </tr>\n",
       "  </tbody>\n",
       "</table>\n",
       "</div>"
      ],
      "text/plain": [
       "           Date  Price   Open  High    Low Change %  DailyOpen  BondsLogReturn\n",
       "1  Jun 25, 2018   8.95  8.499  8.95  8.499    0.00%   0.000233       -0.051593\n",
       "2  Jun 22, 2018   8.95  8.500  8.95  8.500    5.29%   0.000233        0.000118\n",
       "3  Jun 21, 2018   8.50  8.500  8.50  8.500   -0.01%   0.000233        0.000000"
      ]
     },
     "execution_count": 9,
     "metadata": {},
     "output_type": "execute_result"
    }
   ],
   "source": [
    "bonds.head(3)"
   ]
  },
  {
   "cell_type": "markdown",
   "metadata": {},
   "source": [
    "<h3>KMI</h3>"
   ]
  },
  {
   "cell_type": "code",
   "execution_count": 10,
   "metadata": {},
   "outputs": [],
   "source": [
    "kmi['Open'] = kmi['Open'].map(lambda x: x.replace(\",\", \"\"))\n",
    "kmi['KmiLogReturn'] = np.log(kmi['Open'].astype(float)).diff()\n",
    "kmi = kmi.drop(0)"
   ]
  },
  {
   "cell_type": "code",
   "execution_count": 11,
   "metadata": {},
   "outputs": [
    {
     "data": {
      "text/html": [
       "<div>\n",
       "<style scoped>\n",
       "    .dataframe tbody tr th:only-of-type {\n",
       "        vertical-align: middle;\n",
       "    }\n",
       "\n",
       "    .dataframe tbody tr th {\n",
       "        vertical-align: top;\n",
       "    }\n",
       "\n",
       "    .dataframe thead th {\n",
       "        text-align: right;\n",
       "    }\n",
       "</style>\n",
       "<table border=\"1\" class=\"dataframe\">\n",
       "  <thead>\n",
       "    <tr style=\"text-align: right;\">\n",
       "      <th></th>\n",
       "      <th>Date</th>\n",
       "      <th>Price</th>\n",
       "      <th>Open</th>\n",
       "      <th>High</th>\n",
       "      <th>Low</th>\n",
       "      <th>Vol.</th>\n",
       "      <th>Change %</th>\n",
       "      <th>KmiLogReturn</th>\n",
       "    </tr>\n",
       "  </thead>\n",
       "  <tbody>\n",
       "    <tr>\n",
       "      <th>1</th>\n",
       "      <td>Jul 24, 2018</td>\n",
       "      <td>69,278.08</td>\n",
       "      <td>67506.27</td>\n",
       "      <td>69,514.85</td>\n",
       "      <td>67,426.78</td>\n",
       "      <td>60.22K</td>\n",
       "      <td>2.77%</td>\n",
       "      <td>-0.046790</td>\n",
       "    </tr>\n",
       "    <tr>\n",
       "      <th>2</th>\n",
       "      <td>Jul 23, 2018</td>\n",
       "      <td>67,407.85</td>\n",
       "      <td>68903.58</td>\n",
       "      <td>68,903.78</td>\n",
       "      <td>67,250.30</td>\n",
       "      <td>36.16K</td>\n",
       "      <td>-2.15%</td>\n",
       "      <td>0.020488</td>\n",
       "    </tr>\n",
       "    <tr>\n",
       "      <th>3</th>\n",
       "      <td>Jul 20, 2018</td>\n",
       "      <td>68,889.46</td>\n",
       "      <td>69952.78</td>\n",
       "      <td>69,952.78</td>\n",
       "      <td>68,726.91</td>\n",
       "      <td>68.66K</td>\n",
       "      <td>-1.42%</td>\n",
       "      <td>0.015112</td>\n",
       "    </tr>\n",
       "  </tbody>\n",
       "</table>\n",
       "</div>"
      ],
      "text/plain": [
       "           Date      Price      Open       High        Low    Vol. Change %  \\\n",
       "1  Jul 24, 2018  69,278.08  67506.27  69,514.85  67,426.78  60.22K    2.77%   \n",
       "2  Jul 23, 2018  67,407.85  68903.58  68,903.78  67,250.30  36.16K   -2.15%   \n",
       "3  Jul 20, 2018  68,889.46  69952.78  69,952.78  68,726.91  68.66K   -1.42%   \n",
       "\n",
       "   KmiLogReturn  \n",
       "1     -0.046790  \n",
       "2      0.020488  \n",
       "3      0.015112  "
      ]
     },
     "execution_count": 11,
     "metadata": {},
     "output_type": "execute_result"
    }
   ],
   "source": [
    "kmi.head(3)"
   ]
  },
  {
   "cell_type": "markdown",
   "metadata": {},
   "source": [
    "<h5>Merging both Data Frames</h5>"
   ]
  },
  {
   "cell_type": "code",
   "execution_count": 12,
   "metadata": {},
   "outputs": [],
   "source": [
    "regression = pd.merge(kmi, bonds, how=\"inner\", on=\"Date\")[[\"Date\", \"KmiLogReturn\", \"BondsLogReturn\"]]"
   ]
  },
  {
   "cell_type": "code",
   "execution_count": 13,
   "metadata": {},
   "outputs": [
    {
     "data": {
      "text/html": [
       "<div>\n",
       "<style scoped>\n",
       "    .dataframe tbody tr th:only-of-type {\n",
       "        vertical-align: middle;\n",
       "    }\n",
       "\n",
       "    .dataframe tbody tr th {\n",
       "        vertical-align: top;\n",
       "    }\n",
       "\n",
       "    .dataframe thead th {\n",
       "        text-align: right;\n",
       "    }\n",
       "</style>\n",
       "<table border=\"1\" class=\"dataframe\">\n",
       "  <thead>\n",
       "    <tr style=\"text-align: right;\">\n",
       "      <th></th>\n",
       "      <th>Date</th>\n",
       "      <th>KmiLogReturn</th>\n",
       "      <th>BondsLogReturn</th>\n",
       "    </tr>\n",
       "  </thead>\n",
       "  <tbody>\n",
       "    <tr>\n",
       "      <th>0</th>\n",
       "      <td>Jun 25, 2018</td>\n",
       "      <td>0.023515</td>\n",
       "      <td>-0.051593</td>\n",
       "    </tr>\n",
       "    <tr>\n",
       "      <th>1</th>\n",
       "      <td>Jun 22, 2018</td>\n",
       "      <td>0.020488</td>\n",
       "      <td>0.000118</td>\n",
       "    </tr>\n",
       "    <tr>\n",
       "      <th>2</th>\n",
       "      <td>Jun 21, 2018</td>\n",
       "      <td>0.009402</td>\n",
       "      <td>0.000000</td>\n",
       "    </tr>\n",
       "    <tr>\n",
       "      <th>3</th>\n",
       "      <td>Jun 20, 2018</td>\n",
       "      <td>0.015839</td>\n",
       "      <td>0.000118</td>\n",
       "    </tr>\n",
       "    <tr>\n",
       "      <th>4</th>\n",
       "      <td>Jun 19, 2018</td>\n",
       "      <td>0.001142</td>\n",
       "      <td>-0.000118</td>\n",
       "    </tr>\n",
       "  </tbody>\n",
       "</table>\n",
       "</div>"
      ],
      "text/plain": [
       "           Date  KmiLogReturn  BondsLogReturn\n",
       "0  Jun 25, 2018      0.023515       -0.051593\n",
       "1  Jun 22, 2018      0.020488        0.000118\n",
       "2  Jun 21, 2018      0.009402        0.000000\n",
       "3  Jun 20, 2018      0.015839        0.000118\n",
       "4  Jun 19, 2018      0.001142       -0.000118"
      ]
     },
     "execution_count": 13,
     "metadata": {},
     "output_type": "execute_result"
    }
   ],
   "source": [
    "regression.head()"
   ]
  },
  {
   "cell_type": "markdown",
   "metadata": {},
   "source": [
    "<h3>Market Risk Premium</h3>"
   ]
  },
  {
   "cell_type": "code",
   "execution_count": 14,
   "metadata": {},
   "outputs": [],
   "source": [
    "regression['MRP'] = regression['KmiLogReturn'] - regression['BondsLogReturn']"
   ]
  },
  {
   "cell_type": "code",
   "execution_count": 15,
   "metadata": {},
   "outputs": [
    {
     "data": {
      "text/html": [
       "<div>\n",
       "<style scoped>\n",
       "    .dataframe tbody tr th:only-of-type {\n",
       "        vertical-align: middle;\n",
       "    }\n",
       "\n",
       "    .dataframe tbody tr th {\n",
       "        vertical-align: top;\n",
       "    }\n",
       "\n",
       "    .dataframe thead th {\n",
       "        text-align: right;\n",
       "    }\n",
       "</style>\n",
       "<table border=\"1\" class=\"dataframe\">\n",
       "  <thead>\n",
       "    <tr style=\"text-align: right;\">\n",
       "      <th></th>\n",
       "      <th>Date</th>\n",
       "      <th>KmiLogReturn</th>\n",
       "      <th>BondsLogReturn</th>\n",
       "      <th>MRP</th>\n",
       "    </tr>\n",
       "  </thead>\n",
       "  <tbody>\n",
       "    <tr>\n",
       "      <th>0</th>\n",
       "      <td>Jun 25, 2018</td>\n",
       "      <td>0.023515</td>\n",
       "      <td>-0.051593</td>\n",
       "      <td>0.075109</td>\n",
       "    </tr>\n",
       "    <tr>\n",
       "      <th>1</th>\n",
       "      <td>Jun 22, 2018</td>\n",
       "      <td>0.020488</td>\n",
       "      <td>0.000118</td>\n",
       "      <td>0.020370</td>\n",
       "    </tr>\n",
       "    <tr>\n",
       "      <th>2</th>\n",
       "      <td>Jun 21, 2018</td>\n",
       "      <td>0.009402</td>\n",
       "      <td>0.000000</td>\n",
       "      <td>0.009402</td>\n",
       "    </tr>\n",
       "    <tr>\n",
       "      <th>3</th>\n",
       "      <td>Jun 20, 2018</td>\n",
       "      <td>0.015839</td>\n",
       "      <td>0.000118</td>\n",
       "      <td>0.015722</td>\n",
       "    </tr>\n",
       "    <tr>\n",
       "      <th>4</th>\n",
       "      <td>Jun 19, 2018</td>\n",
       "      <td>0.001142</td>\n",
       "      <td>-0.000118</td>\n",
       "      <td>0.001260</td>\n",
       "    </tr>\n",
       "  </tbody>\n",
       "</table>\n",
       "</div>"
      ],
      "text/plain": [
       "           Date  KmiLogReturn  BondsLogReturn       MRP\n",
       "0  Jun 25, 2018      0.023515       -0.051593  0.075109\n",
       "1  Jun 22, 2018      0.020488        0.000118  0.020370\n",
       "2  Jun 21, 2018      0.009402        0.000000  0.009402\n",
       "3  Jun 20, 2018      0.015839        0.000118  0.015722\n",
       "4  Jun 19, 2018      0.001142       -0.000118  0.001260"
      ]
     },
     "execution_count": 15,
     "metadata": {},
     "output_type": "execute_result"
    }
   ],
   "source": [
    "regression.head()"
   ]
  },
  {
   "cell_type": "code",
   "execution_count": 16,
   "metadata": {},
   "outputs": [],
   "source": [
    "stocks = listdir(\"capm\")\n",
    "models = {}"
   ]
  },
  {
   "cell_type": "code",
   "execution_count": 17,
   "metadata": {
    "scrolled": false
   },
   "outputs": [
    {
     "data": {
      "text/markdown": [
       "<br /> <h3>PIBT</h3>"
      ],
      "text/plain": [
       "<IPython.core.display.Markdown object>"
      ]
     },
     "metadata": {},
     "output_type": "display_data"
    },
    {
     "name": "stdout",
     "output_type": "stream",
     "text": [
      "           Date       MRP  StockLogReturns  BondsLogReturn  StockExcessReturns\n",
      "0  Jun 25, 2018  0.075109         0.042635       -0.051593            0.094229\n",
      "1  Jun 22, 2018  0.020370         0.054982        0.000118            0.054864\n",
      "2  Jun 21, 2018  0.009402        -0.099434        0.000000           -0.099434\n",
      "3  Jun 20, 2018  0.015722         0.013544        0.000118            0.013427\n",
      "4  Jun 19, 2018  0.001260         0.004474       -0.000118            0.004592\n",
      "\n",
      "\n",
      "                            OLS Regression Results                            \n",
      "==============================================================================\n",
      "Dep. Variable:     StockExcessReturns   R-squared:                       0.154\n",
      "Model:                            OLS   Adj. R-squared:                  0.101\n",
      "Method:                 Least Squares   F-statistic:                     2.909\n",
      "Date:                Tue, 14 Aug 2018   Prob (F-statistic):              0.107\n",
      "Time:                        12:22:41   Log-Likelihood:                 32.429\n",
      "No. Observations:                  18   AIC:                            -60.86\n",
      "Df Residuals:                      16   BIC:                            -59.08\n",
      "Df Model:                           1                                         \n",
      "Covariance Type:            nonrobust                                         \n",
      "==============================================================================\n",
      "                 coef    std err          t      P>|t|      [0.025      0.975]\n",
      "------------------------------------------------------------------------------\n",
      "const          0.0146      0.010      1.423      0.174      -0.007       0.036\n",
      "MRP            0.8666      0.508      1.706      0.107      -0.210       1.944\n",
      "==============================================================================\n",
      "Omnibus:                       10.943   Durbin-Watson:                   1.787\n",
      "Prob(Omnibus):                  0.004   Jarque-Bera (JB):               11.055\n",
      "Skew:                          -0.880   Prob(JB):                      0.00398\n",
      "Kurtosis:                       6.412   Cond. No.                         50.9\n",
      "==============================================================================\n",
      "\n",
      "Warnings:\n",
      "[1] Standard Errors assume that the covariance matrix of the errors is correctly specified.\n"
     ]
    },
    {
     "name": "stderr",
     "output_type": "stream",
     "text": [
      "/usr/local/lib/python2.7/dist-packages/scipy/stats/stats.py:1394: UserWarning: kurtosistest only valid for n>=20 ... continuing anyway, n=18\n",
      "  \"anyway, n=%i\" % int(n))\n"
     ]
    },
    {
     "data": {
      "text/markdown": [
       "<br /> <h3>DAWH</h3>"
      ],
      "text/plain": [
       "<IPython.core.display.Markdown object>"
      ]
     },
     "metadata": {},
     "output_type": "display_data"
    },
    {
     "name": "stdout",
     "output_type": "stream",
     "text": [
      "           Date       MRP  StockLogReturns  BondsLogReturn  StockExcessReturns\n",
      "0  Jun 25, 2018  0.075109         0.052876       -0.051593            0.104469\n",
      "1  Jun 22, 2018  0.020370         0.003428        0.000118            0.003310\n",
      "2  Jun 21, 2018  0.009402         0.001880        0.000000            0.001880\n",
      "3  Jun 20, 2018  0.015722         0.005959        0.000118            0.005841\n",
      "4  Jun 19, 2018  0.001260         0.011645       -0.000118            0.011762\n",
      "\n",
      "\n",
      "                            OLS Regression Results                            \n",
      "==============================================================================\n",
      "Dep. Variable:     StockExcessReturns   R-squared:                       0.664\n",
      "Model:                            OLS   Adj. R-squared:                  0.643\n",
      "Method:                 Least Squares   F-statistic:                     31.55\n",
      "Date:                Tue, 14 Aug 2018   Prob (F-statistic):           3.85e-05\n",
      "Time:                        12:22:42   Log-Likelihood:                 50.243\n",
      "No. Observations:                  18   AIC:                            -96.49\n",
      "Df Residuals:                      16   BIC:                            -94.71\n",
      "Df Model:                           1                                         \n",
      "Covariance Type:            nonrobust                                         \n",
      "==============================================================================\n",
      "                 coef    std err          t      P>|t|      [0.025      0.975]\n",
      "------------------------------------------------------------------------------\n",
      "const          0.0027      0.004      0.698      0.495      -0.005       0.011\n",
      "MRP            1.0609      0.189      5.617      0.000       0.661       1.461\n",
      "==============================================================================\n",
      "Omnibus:                        1.867   Durbin-Watson:                   2.150\n",
      "Prob(Omnibus):                  0.393   Jarque-Bera (JB):                1.457\n",
      "Skew:                          -0.654   Prob(JB):                        0.483\n",
      "Kurtosis:                       2.521   Cond. No.                         50.9\n",
      "==============================================================================\n",
      "\n",
      "Warnings:\n",
      "[1] Standard Errors assume that the covariance matrix of the errors is correctly specified.\n"
     ]
    },
    {
     "name": "stderr",
     "output_type": "stream",
     "text": [
      "/usr/local/lib/python2.7/dist-packages/scipy/stats/stats.py:1394: UserWarning: kurtosistest only valid for n>=20 ... continuing anyway, n=18\n",
      "  \"anyway, n=%i\" % int(n))\n"
     ]
    },
    {
     "data": {
      "text/markdown": [
       "<br /> <h3>TRGP</h3>"
      ],
      "text/plain": [
       "<IPython.core.display.Markdown object>"
      ]
     },
     "metadata": {},
     "output_type": "display_data"
    },
    {
     "name": "stdout",
     "output_type": "stream",
     "text": [
      "           Date       MRP  StockLogReturns  BondsLogReturn  StockExcessReturns\n",
      "0  Jun 25, 2018  0.075109         0.040392       -0.051593            0.091985\n",
      "1  Jun 22, 2018  0.020370         0.053614        0.000118            0.053497\n",
      "2  Jun 21, 2018  0.009402        -0.014791        0.000000           -0.014791\n",
      "3  Jun 20, 2018  0.015722         0.032576        0.000118            0.032459\n",
      "4  Jun 19, 2018  0.001260        -0.058064       -0.000118           -0.057946\n",
      "\n",
      "\n",
      "                            OLS Regression Results                            \n",
      "==============================================================================\n",
      "Dep. Variable:     StockExcessReturns   R-squared:                       0.529\n",
      "Model:                            OLS   Adj. R-squared:                  0.500\n",
      "Method:                 Least Squares   F-statistic:                     17.97\n",
      "Date:                Tue, 14 Aug 2018   Prob (F-statistic):           0.000626\n",
      "Time:                        12:22:42   Log-Likelihood:                 38.046\n",
      "No. Observations:                  18   AIC:                            -72.09\n",
      "Df Residuals:                      16   BIC:                            -70.31\n",
      "Df Model:                           1                                         \n",
      "Covariance Type:            nonrobust                                         \n",
      "==============================================================================\n",
      "                 coef    std err          t      P>|t|      [0.025      0.975]\n",
      "------------------------------------------------------------------------------\n",
      "const         -0.0087      0.007     -1.167      0.260      -0.025       0.007\n",
      "MRP            1.5764      0.372      4.239      0.001       0.788       2.365\n",
      "==============================================================================\n",
      "Omnibus:                        0.369   Durbin-Watson:                   2.107\n",
      "Prob(Omnibus):                  0.832   Jarque-Bera (JB):                0.496\n",
      "Skew:                           0.030   Prob(JB):                        0.780\n",
      "Kurtosis:                       2.189   Cond. No.                         50.9\n",
      "==============================================================================\n",
      "\n",
      "Warnings:\n",
      "[1] Standard Errors assume that the covariance matrix of the errors is correctly specified.\n"
     ]
    },
    {
     "name": "stderr",
     "output_type": "stream",
     "text": [
      "/usr/local/lib/python2.7/dist-packages/scipy/stats/stats.py:1394: UserWarning: kurtosistest only valid for n>=20 ... continuing anyway, n=18\n",
      "  \"anyway, n=%i\" % int(n))\n"
     ]
    },
    {
     "data": {
      "text/markdown": [
       "<br /> <h3>SUIS</h3>"
      ],
      "text/plain": [
       "<IPython.core.display.Markdown object>"
      ]
     },
     "metadata": {},
     "output_type": "display_data"
    },
    {
     "name": "stdout",
     "output_type": "stream",
     "text": [
      "           Date       MRP  StockLogReturns  BondsLogReturn  StockExcessReturns\n",
      "0  Jun 25, 2018  0.075109         0.050836       -0.051593            0.102429\n",
      "1  Jun 22, 2018  0.020370        -0.000290        0.000118           -0.000408\n",
      "2  Jun 21, 2018  0.009402         0.010384        0.000000            0.010384\n",
      "3  Jun 20, 2018  0.015722         0.013962        0.000118            0.013845\n",
      "4  Jun 19, 2018  0.001260         0.002826       -0.000118            0.002943\n",
      "\n",
      "\n",
      "                            OLS Regression Results                            \n",
      "==============================================================================\n",
      "Dep. Variable:     StockExcessReturns   R-squared:                       0.706\n",
      "Model:                            OLS   Adj. R-squared:                  0.688\n",
      "Method:                 Least Squares   F-statistic:                     38.46\n",
      "Date:                Tue, 14 Aug 2018   Prob (F-statistic):           1.27e-05\n",
      "Time:                        12:22:42   Log-Likelihood:                 47.444\n",
      "No. Observations:                  18   AIC:                            -90.89\n",
      "Df Residuals:                      16   BIC:                            -89.11\n",
      "Df Model:                           1                                         \n",
      "Covariance Type:            nonrobust                                         \n",
      "==============================================================================\n",
      "                 coef    std err          t      P>|t|      [0.025      0.975]\n",
      "------------------------------------------------------------------------------\n",
      "const          0.0003      0.004      0.074      0.942      -0.009       0.010\n",
      "MRP            1.3682      0.221      6.202      0.000       0.901       1.836\n",
      "==============================================================================\n",
      "Omnibus:                        2.033   Durbin-Watson:                   1.316\n",
      "Prob(Omnibus):                  0.362   Jarque-Bera (JB):                0.706\n",
      "Skew:                          -0.435   Prob(JB):                        0.703\n",
      "Kurtosis:                       3.428   Cond. No.                         50.9\n",
      "==============================================================================\n",
      "\n",
      "Warnings:\n",
      "[1] Standard Errors assume that the covariance matrix of the errors is correctly specified.\n"
     ]
    },
    {
     "name": "stderr",
     "output_type": "stream",
     "text": [
      "/usr/local/lib/python2.7/dist-packages/scipy/stats/stats.py:1394: UserWarning: kurtosistest only valid for n>=20 ... continuing anyway, n=18\n",
      "  \"anyway, n=%i\" % int(n))\n"
     ]
    },
    {
     "data": {
      "text/markdown": [
       "<br /> <h3>SEAR</h3>"
      ],
      "text/plain": [
       "<IPython.core.display.Markdown object>"
      ]
     },
     "metadata": {},
     "output_type": "display_data"
    },
    {
     "name": "stdout",
     "output_type": "stream",
     "text": [
      "           Date       MRP  StockLogReturns  BondsLogReturn  StockExcessReturns\n",
      "0  Jun 25, 2018  0.075109         0.019389       -0.051593            0.070982\n",
      "1  Jun 22, 2018  0.020370         0.010287        0.000118            0.010169\n",
      "2  Jun 21, 2018  0.009402         0.000000        0.000000            0.000000\n",
      "3  Jun 20, 2018  0.015722         0.019975        0.000118            0.019857\n",
      "4  Jun 19, 2018  0.001260        -0.040655       -0.000118           -0.040537\n",
      "\n",
      "\n",
      "                            OLS Regression Results                            \n",
      "==============================================================================\n",
      "Dep. Variable:     StockExcessReturns   R-squared:                       0.424\n",
      "Model:                            OLS   Adj. R-squared:                  0.388\n",
      "Method:                 Least Squares   F-statistic:                     11.78\n",
      "Date:                Tue, 14 Aug 2018   Prob (F-statistic):            0.00342\n",
      "Time:                        12:22:42   Log-Likelihood:                 40.700\n",
      "No. Observations:                  18   AIC:                            -77.40\n",
      "Df Residuals:                      16   BIC:                            -75.62\n",
      "Df Model:                           1                                         \n",
      "Covariance Type:            nonrobust                                         \n",
      "==============================================================================\n",
      "                 coef    std err          t      P>|t|      [0.025      0.975]\n",
      "------------------------------------------------------------------------------\n",
      "const         -0.0079      0.006     -1.222      0.239      -0.022       0.006\n",
      "MRP            1.1014      0.321      3.432      0.003       0.421       1.782\n",
      "==============================================================================\n",
      "Omnibus:                        0.063   Durbin-Watson:                   1.807\n",
      "Prob(Omnibus):                  0.969   Jarque-Bera (JB):                0.087\n",
      "Skew:                          -0.055   Prob(JB):                        0.957\n",
      "Kurtosis:                       2.677   Cond. No.                         50.9\n",
      "==============================================================================\n",
      "\n",
      "Warnings:\n",
      "[1] Standard Errors assume that the covariance matrix of the errors is correctly specified.\n"
     ]
    },
    {
     "name": "stderr",
     "output_type": "stream",
     "text": [
      "/usr/local/lib/python2.7/dist-packages/scipy/stats/stats.py:1394: UserWarning: kurtosistest only valid for n>=20 ... continuing anyway, n=18\n",
      "  \"anyway, n=%i\" % int(n))\n"
     ]
    },
    {
     "data": {
      "text/markdown": [
       "<br /> <h3>FAUC</h3>"
      ],
      "text/plain": [
       "<IPython.core.display.Markdown object>"
      ]
     },
     "metadata": {},
     "output_type": "display_data"
    },
    {
     "name": "stdout",
     "output_type": "stream",
     "text": [
      "           Date       MRP  StockLogReturns  BondsLogReturn  StockExcessReturns\n",
      "0  Jun 25, 2018  0.075109         0.052076       -0.051593            0.103670\n",
      "1  Jun 22, 2018  0.020370         0.047831        0.000118            0.047714\n",
      "2  Jun 21, 2018  0.009402        -0.019369        0.000000           -0.019369\n",
      "3  Jun 20, 2018  0.015722         0.030978        0.000118            0.030860\n",
      "4  Jun 19, 2018  0.001260        -0.011192       -0.000118           -0.011074\n",
      "\n",
      "\n",
      "                            OLS Regression Results                            \n",
      "==============================================================================\n",
      "Dep. Variable:     StockExcessReturns   R-squared:                       0.814\n",
      "Model:                            OLS   Adj. R-squared:                  0.802\n",
      "Method:                 Least Squares   F-statistic:                     69.99\n",
      "Date:                Tue, 14 Aug 2018   Prob (F-statistic):           3.09e-07\n",
      "Time:                        12:22:42   Log-Likelihood:                 51.704\n",
      "No. Observations:                  18   AIC:                            -99.41\n",
      "Df Residuals:                      16   BIC:                            -97.63\n",
      "Df Model:                           1                                         \n",
      "Covariance Type:            nonrobust                                         \n",
      "==============================================================================\n",
      "                 coef    std err          t      P>|t|      [0.025      0.975]\n",
      "------------------------------------------------------------------------------\n",
      "const          0.0033      0.004      0.941      0.361      -0.004       0.011\n",
      "MRP            1.4569      0.174      8.366      0.000       1.088       1.826\n",
      "==============================================================================\n",
      "Omnibus:                        5.184   Durbin-Watson:                   2.228\n",
      "Prob(Omnibus):                  0.075   Jarque-Bera (JB):                2.956\n",
      "Skew:                          -0.946   Prob(JB):                        0.228\n",
      "Kurtosis:                       3.605   Cond. No.                         50.9\n",
      "==============================================================================\n",
      "\n",
      "Warnings:\n",
      "[1] Standard Errors assume that the covariance matrix of the errors is correctly specified.\n"
     ]
    },
    {
     "name": "stderr",
     "output_type": "stream",
     "text": [
      "/usr/local/lib/python2.7/dist-packages/scipy/stats/stats.py:1394: UserWarning: kurtosistest only valid for n>=20 ... continuing anyway, n=18\n",
      "  \"anyway, n=%i\" % int(n))\n"
     ]
    },
    {
     "data": {
      "text/markdown": [
       "<br /> <h3>NATR</h3>"
      ],
      "text/plain": [
       "<IPython.core.display.Markdown object>"
      ]
     },
     "metadata": {},
     "output_type": "display_data"
    },
    {
     "name": "stdout",
     "output_type": "stream",
     "text": [
      "           Date       MRP  StockLogReturns  BondsLogReturn  StockExcessReturns\n",
      "0  Jun 25, 2018  0.075109        -0.023142       -0.051593            0.028451\n",
      "1  Jun 22, 2018  0.020370        -0.007345        0.000118           -0.007462\n",
      "2  Jun 21, 2018  0.009402         0.007345        0.000000            0.007345\n",
      "3  Jun 20, 2018  0.015722        -0.016608        0.000118           -0.016725\n",
      "4  Jun 19, 2018  0.001260        -0.004796       -0.000118           -0.004679\n",
      "\n",
      "\n",
      "                            OLS Regression Results                            \n",
      "==============================================================================\n",
      "Dep. Variable:     StockExcessReturns   R-squared:                       0.201\n",
      "Model:                            OLS   Adj. R-squared:                  0.151\n",
      "Method:                 Least Squares   F-statistic:                     4.035\n",
      "Date:                Tue, 14 Aug 2018   Prob (F-statistic):             0.0617\n",
      "Time:                        12:22:42   Log-Likelihood:                 41.002\n",
      "No. Observations:                  18   AIC:                            -78.00\n",
      "Df Residuals:                      16   BIC:                            -76.22\n",
      "Df Model:                           1                                         \n",
      "Covariance Type:            nonrobust                                         \n",
      "==============================================================================\n",
      "                 coef    std err          t      P>|t|      [0.025      0.975]\n",
      "------------------------------------------------------------------------------\n",
      "const         -0.0158      0.006     -2.480      0.025      -0.029      -0.002\n",
      "MRP            0.6339      0.316      2.009      0.062      -0.035       1.303\n",
      "==============================================================================\n",
      "Omnibus:                        4.255   Durbin-Watson:                   1.876\n",
      "Prob(Omnibus):                  0.119   Jarque-Bera (JB):                2.068\n",
      "Skew:                           0.452   Prob(JB):                        0.356\n",
      "Kurtosis:                       4.392   Cond. No.                         50.9\n",
      "==============================================================================\n",
      "\n",
      "Warnings:\n",
      "[1] Standard Errors assume that the covariance matrix of the errors is correctly specified.\n"
     ]
    },
    {
     "name": "stderr",
     "output_type": "stream",
     "text": [
      "/usr/local/lib/python2.7/dist-packages/scipy/stats/stats.py:1394: UserWarning: kurtosistest only valid for n>=20 ... continuing anyway, n=18\n",
      "  \"anyway, n=%i\" % int(n))\n"
     ]
    },
    {
     "data": {
      "text/markdown": [
       "<br /> <h3>TRET</h3>"
      ],
      "text/plain": [
       "<IPython.core.display.Markdown object>"
      ]
     },
     "metadata": {},
     "output_type": "display_data"
    },
    {
     "name": "stdout",
     "output_type": "stream",
     "text": [
      "           Date       MRP  StockLogReturns  BondsLogReturn  StockExcessReturns\n",
      "0  Jun 25, 2018  0.075109         0.024664       -0.051593            0.076258\n",
      "1  Jun 22, 2018  0.020370        -0.002837        0.000118           -0.002955\n",
      "2  Jun 21, 2018  0.009402         0.022751        0.000000            0.022751\n",
      "3  Jun 20, 2018  0.015722         0.024415        0.000118            0.024297\n",
      "4  Jun 19, 2018  0.001260        -0.008163       -0.000118           -0.008046\n",
      "\n",
      "\n",
      "                            OLS Regression Results                            \n",
      "==============================================================================\n",
      "Dep. Variable:     StockExcessReturns   R-squared:                       0.669\n",
      "Model:                            OLS   Adj. R-squared:                  0.649\n",
      "Method:                 Least Squares   F-statistic:                     32.41\n",
      "Date:                Tue, 14 Aug 2018   Prob (F-statistic):           3.33e-05\n",
      "Time:                        12:22:42   Log-Likelihood:                 51.226\n",
      "No. Observations:                  18   AIC:                            -98.45\n",
      "Df Residuals:                      16   BIC:                            -96.67\n",
      "Df Model:                           1                                         \n",
      "Covariance Type:            nonrobust                                         \n",
      "==============================================================================\n",
      "                 coef    std err          t      P>|t|      [0.025      0.975]\n",
      "------------------------------------------------------------------------------\n",
      "const          0.0004      0.004      0.108      0.915      -0.007       0.008\n",
      "MRP            1.0180      0.179      5.693      0.000       0.639       1.397\n",
      "==============================================================================\n",
      "Omnibus:                        0.192   Durbin-Watson:                   2.827\n",
      "Prob(Omnibus):                  0.908   Jarque-Bera (JB):                0.392\n",
      "Skew:                           0.117   Prob(JB):                        0.822\n",
      "Kurtosis:                       2.316   Cond. No.                         50.9\n",
      "==============================================================================\n",
      "\n",
      "Warnings:\n",
      "[1] Standard Errors assume that the covariance matrix of the errors is correctly specified.\n"
     ]
    },
    {
     "name": "stderr",
     "output_type": "stream",
     "text": [
      "/usr/local/lib/python2.7/dist-packages/scipy/stats/stats.py:1394: UserWarning: kurtosistest only valid for n>=20 ... continuing anyway, n=18\n",
      "  \"anyway, n=%i\" % int(n))\n"
     ]
    },
    {
     "data": {
      "text/markdown": [
       "<br /> <h3>KAPCO</h3>"
      ],
      "text/plain": [
       "<IPython.core.display.Markdown object>"
      ]
     },
     "metadata": {},
     "output_type": "display_data"
    },
    {
     "name": "stdout",
     "output_type": "stream",
     "text": [
      "           Date       MRP  StockLogReturns  BondsLogReturn  StockExcessReturns\n",
      "0  Jun 25, 2018  0.075109         0.000173       -0.051593            0.051766\n",
      "1  Jun 22, 2018  0.020370         0.014389        0.000118            0.014271\n",
      "2  Jun 21, 2018  0.009402        -0.017153        0.000000           -0.017153\n",
      "3  Jun 20, 2018  0.015722         0.007240        0.000118            0.007123\n",
      "4  Jun 19, 2018  0.001260         0.010763       -0.000118            0.010881\n",
      "\n",
      "\n",
      "                            OLS Regression Results                            \n",
      "==============================================================================\n",
      "Dep. Variable:     StockExcessReturns   R-squared:                       0.571\n",
      "Model:                            OLS   Adj. R-squared:                  0.544\n",
      "Method:                 Least Squares   F-statistic:                     21.30\n",
      "Date:                Tue, 14 Aug 2018   Prob (F-statistic):           0.000286\n",
      "Time:                        12:22:42   Log-Likelihood:                 55.374\n",
      "No. Observations:                  18   AIC:                            -106.7\n",
      "Df Residuals:                      16   BIC:                            -105.0\n",
      "Df Model:                           1                                         \n",
      "Covariance Type:            nonrobust                                         \n",
      "==============================================================================\n",
      "                 coef    std err          t      P>|t|      [0.025      0.975]\n",
      "------------------------------------------------------------------------------\n",
      "const         -0.0015      0.003     -0.525      0.606      -0.008       0.005\n",
      "MRP            0.6555      0.142      4.616      0.000       0.354       0.957\n",
      "==============================================================================\n",
      "Omnibus:                        1.199   Durbin-Watson:                   2.363\n",
      "Prob(Omnibus):                  0.549   Jarque-Bera (JB):                0.168\n",
      "Skew:                           0.121   Prob(JB):                        0.919\n",
      "Kurtosis:                       3.407   Cond. No.                         50.9\n",
      "==============================================================================\n",
      "\n",
      "Warnings:\n",
      "[1] Standard Errors assume that the covariance matrix of the errors is correctly specified.\n"
     ]
    },
    {
     "name": "stderr",
     "output_type": "stream",
     "text": [
      "/usr/local/lib/python2.7/dist-packages/scipy/stats/stats.py:1394: UserWarning: kurtosistest only valid for n>=20 ... continuing anyway, n=18\n",
      "  \"anyway, n=%i\" % int(n))\n"
     ]
    },
    {
     "data": {
      "text/markdown": [
       "<br /> <h3>HASC</h3>"
      ],
      "text/plain": [
       "<IPython.core.display.Markdown object>"
      ]
     },
     "metadata": {},
     "output_type": "display_data"
    },
    {
     "name": "stdout",
     "output_type": "stream",
     "text": [
      "           Date       MRP  StockLogReturns  BondsLogReturn  StockExcessReturns\n",
      "0  Jun 25, 2018  0.075109         0.035718       -0.051593            0.087311\n",
      "1  Jun 22, 2018  0.020370         0.034859        0.000118            0.034741\n",
      "2  Jun 21, 2018  0.009402         0.023112        0.000000            0.023112\n",
      "3  Jun 20, 2018  0.015722         0.045219        0.000118            0.045101\n",
      "4  Jun 19, 2018  0.001260         0.006341       -0.000118            0.006459\n",
      "\n",
      "\n"
     ]
    },
    {
     "name": "stderr",
     "output_type": "stream",
     "text": [
      "/usr/local/lib/python2.7/dist-packages/scipy/stats/stats.py:1394: UserWarning: kurtosistest only valid for n>=20 ... continuing anyway, n=18\n",
      "  \"anyway, n=%i\" % int(n))\n"
     ]
    },
    {
     "name": "stdout",
     "output_type": "stream",
     "text": [
      "                            OLS Regression Results                            \n",
      "==============================================================================\n",
      "Dep. Variable:     StockExcessReturns   R-squared:                       0.685\n",
      "Model:                            OLS   Adj. R-squared:                  0.666\n",
      "Method:                 Least Squares   F-statistic:                     34.83\n",
      "Date:                Tue, 14 Aug 2018   Prob (F-statistic):           2.23e-05\n",
      "Time:                        12:22:42   Log-Likelihood:                 46.159\n",
      "No. Observations:                  18   AIC:                            -88.32\n",
      "Df Residuals:                      16   BIC:                            -86.54\n",
      "Df Model:                           1                                         \n",
      "Covariance Type:            nonrobust                                         \n",
      "==============================================================================\n",
      "                 coef    std err          t      P>|t|      [0.025      0.975]\n",
      "------------------------------------------------------------------------------\n",
      "const          0.0020      0.005      0.414      0.685      -0.008       0.012\n",
      "MRP            1.3984      0.237      5.902      0.000       0.896       1.901\n",
      "==============================================================================\n",
      "Omnibus:                        6.726   Durbin-Watson:                   2.415\n",
      "Prob(Omnibus):                  0.035   Jarque-Bera (JB):                4.068\n",
      "Skew:                          -1.077   Prob(JB):                        0.131\n",
      "Kurtosis:                       3.887   Cond. No.                         50.9\n",
      "==============================================================================\n",
      "\n",
      "Warnings:\n",
      "[1] Standard Errors assume that the covariance matrix of the errors is correctly specified.\n"
     ]
    },
    {
     "data": {
      "text/markdown": [
       "<br /> <h3>OGDC</h3>"
      ],
      "text/plain": [
       "<IPython.core.display.Markdown object>"
      ]
     },
     "metadata": {},
     "output_type": "display_data"
    },
    {
     "name": "stdout",
     "output_type": "stream",
     "text": [
      "           Date       MRP  StockLogReturns  BondsLogReturn  StockExcessReturns\n",
      "0  Jun 25, 2018  0.075109         0.014812       -0.051593            0.066406\n",
      "1  Jun 22, 2018  0.020370         0.011958        0.000118            0.011840\n",
      "2  Jun 21, 2018  0.009402         0.015477        0.000000            0.015477\n",
      "3  Jun 20, 2018  0.015722         0.013471        0.000118            0.013353\n",
      "4  Jun 19, 2018  0.001260         0.011481       -0.000118            0.011599\n",
      "\n",
      "\n",
      "                            OLS Regression Results                            \n",
      "==============================================================================\n",
      "Dep. Variable:     StockExcessReturns   R-squared:                       0.718\n",
      "Model:                            OLS   Adj. R-squared:                  0.700\n",
      "Method:                 Least Squares   F-statistic:                     40.64\n",
      "Date:                Tue, 14 Aug 2018   Prob (F-statistic):           9.20e-06\n",
      "Time:                        12:22:42   Log-Likelihood:                 56.808\n",
      "No. Observations:                  18   AIC:                            -109.6\n",
      "Df Residuals:                      16   BIC:                            -107.8\n",
      "Df Model:                           1                                         \n",
      "Covariance Type:            nonrobust                                         \n",
      "==============================================================================\n",
      "                 coef    std err          t      P>|t|      [0.025      0.975]\n",
      "------------------------------------------------------------------------------\n",
      "const          0.0004      0.003      0.165      0.871      -0.005       0.006\n",
      "MRP            0.8360      0.131      6.375      0.000       0.558       1.114\n",
      "==============================================================================\n",
      "Omnibus:                        0.242   Durbin-Watson:                   2.193\n",
      "Prob(Omnibus):                  0.886   Jarque-Bera (JB):                0.415\n",
      "Skew:                          -0.184   Prob(JB):                        0.813\n",
      "Kurtosis:                       2.354   Cond. No.                         50.9\n",
      "==============================================================================\n",
      "\n",
      "Warnings:\n",
      "[1] Standard Errors assume that the covariance matrix of the errors is correctly specified.\n"
     ]
    },
    {
     "name": "stderr",
     "output_type": "stream",
     "text": [
      "/usr/local/lib/python2.7/dist-packages/scipy/stats/stats.py:1394: UserWarning: kurtosistest only valid for n>=20 ... continuing anyway, n=18\n",
      "  \"anyway, n=%i\" % int(n))\n"
     ]
    },
    {
     "data": {
      "text/markdown": [
       "<br /> <h3>MILM</h3>"
      ],
      "text/plain": [
       "<IPython.core.display.Markdown object>"
      ]
     },
     "metadata": {},
     "output_type": "display_data"
    },
    {
     "name": "stderr",
     "output_type": "stream",
     "text": [
      "/usr/local/lib/python2.7/dist-packages/scipy/stats/stats.py:1394: UserWarning: kurtosistest only valid for n>=20 ... continuing anyway, n=18\n",
      "  \"anyway, n=%i\" % int(n))\n"
     ]
    },
    {
     "name": "stdout",
     "output_type": "stream",
     "text": [
      "           Date       MRP  StockLogReturns  BondsLogReturn  StockExcessReturns\n",
      "0  Jun 25, 2018  0.075109         0.008734       -0.051593            0.060327\n",
      "1  Jun 22, 2018  0.020370        -0.011369        0.000118           -0.011486\n",
      "2  Jun 21, 2018  0.009402         0.054012        0.000000            0.054012\n",
      "3  Jun 20, 2018  0.015722         0.017265        0.000118            0.017148\n",
      "4  Jun 19, 2018  0.001260         0.008157       -0.000118            0.008274\n",
      "\n",
      "\n",
      "                            OLS Regression Results                            \n",
      "==============================================================================\n",
      "Dep. Variable:     StockExcessReturns   R-squared:                       0.489\n",
      "Model:                            OLS   Adj. R-squared:                  0.457\n",
      "Method:                 Least Squares   F-statistic:                     15.30\n",
      "Date:                Tue, 14 Aug 2018   Prob (F-statistic):            0.00124\n",
      "Time:                        12:22:42   Log-Likelihood:                 51.193\n",
      "No. Observations:                  18   AIC:                            -98.39\n",
      "Df Residuals:                      16   BIC:                            -96.61\n",
      "Df Model:                           1                                         \n",
      "Covariance Type:            nonrobust                                         \n",
      "==============================================================================\n",
      "                 coef    std err          t      P>|t|      [0.025      0.975]\n",
      "------------------------------------------------------------------------------\n",
      "const          0.0030      0.004      0.834      0.417      -0.005       0.011\n",
      "MRP            0.7007      0.179      3.911      0.001       0.321       1.080\n",
      "==============================================================================\n",
      "Omnibus:                       13.098   Durbin-Watson:                   2.637\n",
      "Prob(Omnibus):                  0.001   Jarque-Bera (JB):               13.758\n",
      "Skew:                           1.124   Prob(JB):                      0.00103\n",
      "Kurtosis:                       6.646   Cond. No.                         50.9\n",
      "==============================================================================\n",
      "\n",
      "Warnings:\n",
      "[1] Standard Errors assume that the covariance matrix of the errors is correctly specified.\n"
     ]
    },
    {
     "data": {
      "text/markdown": [
       "<br /> <h3>ATOC</h3>"
      ],
      "text/plain": [
       "<IPython.core.display.Markdown object>"
      ]
     },
     "metadata": {},
     "output_type": "display_data"
    },
    {
     "name": "stdout",
     "output_type": "stream",
     "text": [
      "           Date       MRP  StockLogReturns  BondsLogReturn  StockExcessReturns\n",
      "0  Jun 25, 2018  0.075109         0.006403       -0.051593            0.057997\n",
      "1  Jun 22, 2018  0.020370         0.014085        0.000118            0.013967\n",
      "2  Jun 21, 2018  0.009402         0.020762        0.000000            0.020762\n",
      "3  Jun 20, 2018  0.015722         0.059109        0.000118            0.058991\n",
      "4  Jun 19, 2018  0.001260        -0.012277       -0.000118           -0.012160\n",
      "\n",
      "\n"
     ]
    },
    {
     "name": "stderr",
     "output_type": "stream",
     "text": [
      "/usr/local/lib/python2.7/dist-packages/scipy/stats/stats.py:1394: UserWarning: kurtosistest only valid for n>=20 ... continuing anyway, n=18\n",
      "  \"anyway, n=%i\" % int(n))\n"
     ]
    },
    {
     "name": "stdout",
     "output_type": "stream",
     "text": [
      "                            OLS Regression Results                            \n",
      "==============================================================================\n",
      "Dep. Variable:     StockExcessReturns   R-squared:                       0.391\n",
      "Model:                            OLS   Adj. R-squared:                  0.353\n",
      "Method:                 Least Squares   F-statistic:                     10.26\n",
      "Date:                Tue, 14 Aug 2018   Prob (F-statistic):            0.00553\n",
      "Time:                        12:22:43   Log-Likelihood:                 47.189\n",
      "No. Observations:                  18   AIC:                            -90.38\n",
      "Df Residuals:                      16   BIC:                            -88.60\n",
      "Df Model:                           1                                         \n",
      "Covariance Type:            nonrobust                                         \n",
      "==============================================================================\n",
      "                 coef    std err          t      P>|t|      [0.025      0.975]\n",
      "------------------------------------------------------------------------------\n",
      "const          0.0091      0.005      2.006      0.062      -0.001       0.019\n",
      "MRP            0.7169      0.224      3.204      0.006       0.243       1.191\n",
      "==============================================================================\n",
      "Omnibus:                        2.255   Durbin-Watson:                   1.819\n",
      "Prob(Omnibus):                  0.324   Jarque-Bera (JB):                1.731\n",
      "Skew:                           0.725   Prob(JB):                        0.421\n",
      "Kurtosis:                       2.544   Cond. No.                         50.9\n",
      "==============================================================================\n",
      "\n",
      "Warnings:\n",
      "[1] Standard Errors assume that the covariance matrix of the errors is correctly specified.\n"
     ]
    },
    {
     "data": {
      "text/markdown": [
       "<br /> <h3>APL</h3>"
      ],
      "text/plain": [
       "<IPython.core.display.Markdown object>"
      ]
     },
     "metadata": {},
     "output_type": "display_data"
    },
    {
     "name": "stdout",
     "output_type": "stream",
     "text": [
      "           Date       MRP  StockLogReturns  BondsLogReturn  StockExcessReturns\n",
      "0  Jun 25, 2018  0.075109         0.030086       -0.051593            0.081680\n",
      "1  Jun 22, 2018  0.020370         0.004922        0.000118            0.004804\n",
      "2  Jun 21, 2018  0.009402        -0.003279        0.000000           -0.003279\n",
      "3  Jun 20, 2018  0.015722         0.017740        0.000118            0.017622\n",
      "4  Jun 19, 2018  0.001260        -0.014248       -0.000118           -0.014131\n",
      "\n",
      "\n",
      "                            OLS Regression Results                            \n",
      "==============================================================================\n",
      "Dep. Variable:     StockExcessReturns   R-squared:                       0.701\n",
      "Model:                            OLS   Adj. R-squared:                  0.683\n",
      "Method:                 Least Squares   F-statistic:                     37.58\n",
      "Date:                Tue, 14 Aug 2018   Prob (F-statistic):           1.45e-05\n",
      "Time:                        12:22:43   Log-Likelihood:                 55.291\n",
      "No. Observations:                  18   AIC:                            -106.6\n",
      "Df Residuals:                      16   BIC:                            -104.8\n",
      "Df Model:                           1                                         \n",
      "Covariance Type:            nonrobust                                         \n",
      "==============================================================================\n",
      "                 coef    std err          t      P>|t|      [0.025      0.975]\n",
      "------------------------------------------------------------------------------\n",
      "const          0.0003      0.003      0.109      0.915      -0.006       0.006\n",
      "MRP            0.8746      0.143      6.130      0.000       0.572       1.177\n",
      "==============================================================================\n",
      "Omnibus:                        1.372   Durbin-Watson:                   1.628\n",
      "Prob(Omnibus):                  0.504   Jarque-Bera (JB):                1.165\n",
      "Skew:                           0.546   Prob(JB):                        0.559\n",
      "Kurtosis:                       2.401   Cond. No.                         50.9\n",
      "==============================================================================\n",
      "\n",
      "Warnings:\n",
      "[1] Standard Errors assume that the covariance matrix of the errors is correctly specified.\n"
     ]
    },
    {
     "name": "stderr",
     "output_type": "stream",
     "text": [
      "/usr/local/lib/python2.7/dist-packages/scipy/stats/stats.py:1394: UserWarning: kurtosistest only valid for n>=20 ... continuing anyway, n=18\n",
      "  \"anyway, n=%i\" % int(n))\n"
     ]
    },
    {
     "data": {
      "text/markdown": [
       "<br /> <h3>SHEL</h3>"
      ],
      "text/plain": [
       "<IPython.core.display.Markdown object>"
      ]
     },
     "metadata": {},
     "output_type": "display_data"
    },
    {
     "name": "stdout",
     "output_type": "stream",
     "text": [
      "           Date       MRP  StockLogReturns  BondsLogReturn  StockExcessReturns\n",
      "0  Jun 25, 2018  0.075109         0.009539       -0.051593            0.061132\n",
      "1  Jun 22, 2018  0.020370         0.049242        0.000118            0.049124\n",
      "2  Jun 21, 2018  0.009402         0.012097        0.000000            0.012097\n",
      "3  Jun 20, 2018  0.015722         0.011864        0.000118            0.011747\n",
      "4  Jun 19, 2018  0.001260         0.014599       -0.000118            0.014716\n",
      "\n",
      "\n",
      "                            OLS Regression Results                            \n",
      "==============================================================================\n",
      "Dep. Variable:     StockExcessReturns   R-squared:                       0.486\n",
      "Model:                            OLS   Adj. R-squared:                  0.454\n",
      "Method:                 Least Squares   F-statistic:                     15.15\n",
      "Date:                Tue, 14 Aug 2018   Prob (F-statistic):            0.00130\n",
      "Time:                        12:22:43   Log-Likelihood:                 47.234\n",
      "No. Observations:                  18   AIC:                            -90.47\n",
      "Df Residuals:                      16   BIC:                            -88.69\n",
      "Df Model:                           1                                         \n",
      "Covariance Type:            nonrobust                                         \n",
      "==============================================================================\n",
      "                 coef    std err          t      P>|t|      [0.025      0.975]\n",
      "------------------------------------------------------------------------------\n",
      "const          0.0022      0.004      0.483      0.635      -0.007       0.012\n",
      "MRP            0.8688      0.223      3.892      0.001       0.396       1.342\n",
      "==============================================================================\n",
      "Omnibus:                        0.343   Durbin-Watson:                   2.477\n",
      "Prob(Omnibus):                  0.843   Jarque-Bera (JB):                0.074\n",
      "Skew:                          -0.146   Prob(JB):                        0.963\n",
      "Kurtosis:                       2.882   Cond. No.                         50.9\n",
      "==============================================================================\n",
      "\n",
      "Warnings:\n",
      "[1] Standard Errors assume that the covariance matrix of the errors is correctly specified.\n"
     ]
    },
    {
     "name": "stderr",
     "output_type": "stream",
     "text": [
      "/usr/local/lib/python2.7/dist-packages/scipy/stats/stats.py:1394: UserWarning: kurtosistest only valid for n>=20 ... continuing anyway, n=18\n",
      "  \"anyway, n=%i\" % int(n))\n"
     ]
    },
    {
     "data": {
      "text/markdown": [
       "<br /> <h3>SUIN</h3>"
      ],
      "text/plain": [
       "<IPython.core.display.Markdown object>"
      ]
     },
     "metadata": {},
     "output_type": "display_data"
    },
    {
     "name": "stdout",
     "output_type": "stream",
     "text": [
      "           Date       MRP  StockLogReturns  BondsLogReturn  StockExcessReturns\n",
      "0  Jun 25, 2018  0.075109         0.084121       -0.051593            0.135714\n",
      "1  Jun 22, 2018  0.020370        -0.038499        0.000118           -0.038616\n",
      "2  Jun 21, 2018  0.009402         0.028742        0.000000            0.028742\n",
      "3  Jun 20, 2018  0.015722         0.033738        0.000118            0.033620\n",
      "4  Jun 19, 2018  0.001260         0.009434       -0.000118            0.009552\n",
      "\n",
      "\n",
      "                            OLS Regression Results                            \n",
      "==============================================================================\n",
      "Dep. Variable:     StockExcessReturns   R-squared:                       0.645\n",
      "Model:                            OLS   Adj. R-squared:                  0.623\n",
      "Method:                 Least Squares   F-statistic:                     29.05\n",
      "Date:                Tue, 14 Aug 2018   Prob (F-statistic):           6.02e-05\n",
      "Time:                        12:22:43   Log-Likelihood:                 40.031\n",
      "No. Observations:                  18   AIC:                            -76.06\n",
      "Df Residuals:                      16   BIC:                            -74.28\n",
      "Df Model:                           1                                         \n",
      "Covariance Type:            nonrobust                                         \n",
      "==============================================================================\n",
      "                 coef    std err          t      P>|t|      [0.025      0.975]\n",
      "------------------------------------------------------------------------------\n",
      "const         -0.0039      0.007     -0.580      0.570      -0.018       0.010\n",
      "MRP            1.7951      0.333      5.390      0.000       1.089       2.501\n",
      "==============================================================================\n",
      "Omnibus:                       12.477   Durbin-Watson:                   2.009\n",
      "Prob(Omnibus):                  0.002   Jarque-Bera (JB):                9.647\n",
      "Skew:                          -1.506   Prob(JB):                      0.00804\n",
      "Kurtosis:                       4.948   Cond. No.                         50.9\n",
      "==============================================================================\n",
      "\n",
      "Warnings:\n",
      "[1] Standard Errors assume that the covariance matrix of the errors is correctly specified.\n"
     ]
    },
    {
     "name": "stderr",
     "output_type": "stream",
     "text": [
      "/usr/local/lib/python2.7/dist-packages/scipy/stats/stats.py:1394: UserWarning: kurtosistest only valid for n>=20 ... continuing anyway, n=18\n",
      "  \"anyway, n=%i\" % int(n))\n"
     ]
    },
    {
     "data": {
      "text/markdown": [
       "<br /> <h3>AKDC</h3>"
      ],
      "text/plain": [
       "<IPython.core.display.Markdown object>"
      ]
     },
     "metadata": {},
     "output_type": "display_data"
    },
    {
     "name": "stdout",
     "output_type": "stream",
     "text": [
      "           Date       MRP  StockLogReturns  BondsLogReturn  StockExcessReturns\n",
      "0  Jun 22, 2018  0.020370        -0.051129        0.000118           -0.051247\n",
      "1  Jun 20, 2018  0.015722         0.051209        0.000118            0.051091\n",
      "2  Jun 13, 2018 -0.007289        -0.001361        0.000000           -0.001361\n",
      "3  Jun 12, 2018  0.015164         0.000000        0.000000            0.000000\n",
      "4  Jun 11, 2018  0.006764         0.000000        0.000000            0.000000\n",
      "\n",
      "\n",
      "                            OLS Regression Results                            \n",
      "==============================================================================\n",
      "Dep. Variable:     StockExcessReturns   R-squared:                       0.172\n",
      "Model:                            OLS   Adj. R-squared:                  0.006\n",
      "Method:                 Least Squares   F-statistic:                     1.036\n",
      "Date:                Tue, 14 Aug 2018   Prob (F-statistic):              0.356\n",
      "Time:                        12:22:43   Log-Likelihood:                 14.532\n",
      "No. Observations:                   7   AIC:                            -25.06\n",
      "Df Residuals:                       5   BIC:                            -25.17\n",
      "Df Model:                           1                                         \n",
      "Covariance Type:            nonrobust                                         \n",
      "==============================================================================\n",
      "                 coef    std err          t      P>|t|      [0.025      0.975]\n",
      "------------------------------------------------------------------------------\n",
      "const          0.0132      0.015      0.899      0.410      -0.025       0.051\n",
      "MRP           -1.1601      1.140     -1.018      0.356      -4.090       1.770\n",
      "==============================================================================\n",
      "Omnibus:                          nan   Durbin-Watson:                   3.036\n",
      "Prob(Omnibus):                    nan   Jarque-Bera (JB):                0.515\n",
      "Skew:                           0.563   Prob(JB):                        0.773\n",
      "Kurtosis:                       2.293   Cond. No.                         84.0\n",
      "==============================================================================\n",
      "\n",
      "Warnings:\n",
      "[1] Standard Errors assume that the covariance matrix of the errors is correctly specified.\n"
     ]
    },
    {
     "name": "stderr",
     "output_type": "stream",
     "text": [
      "/usr/local/lib/python2.7/dist-packages/statsmodels/stats/stattools.py:72: ValueWarning: omni_normtest is not valid with less than 8 observations; 7 samples were given.\n",
      "  \"samples were given.\" % int(n), ValueWarning)\n"
     ]
    },
    {
     "data": {
      "text/markdown": [
       "<br /> <h3>MARI</h3>"
      ],
      "text/plain": [
       "<IPython.core.display.Markdown object>"
      ]
     },
     "metadata": {},
     "output_type": "display_data"
    },
    {
     "name": "stdout",
     "output_type": "stream",
     "text": [
      "           Date       MRP  StockLogReturns  BondsLogReturn  StockExcessReturns\n",
      "0  Jun 25, 2018  0.075109         0.000000       -0.051593            0.051593\n",
      "1  Jun 22, 2018  0.020370         0.051793        0.000118            0.051676\n",
      "2  Jun 21, 2018  0.009402         0.048766        0.000000            0.048766\n",
      "3  Jun 14, 2018 -0.005394        -0.000476        0.000000           -0.000476\n",
      "4  Jun 11, 2018  0.006764         0.011834        0.000000            0.011834\n",
      "\n",
      "\n"
     ]
    },
    {
     "name": "stderr",
     "output_type": "stream",
     "text": [
      "/usr/local/lib/python2.7/dist-packages/scipy/stats/stats.py:1394: UserWarning: kurtosistest only valid for n>=20 ... continuing anyway, n=10\n",
      "  \"anyway, n=%i\" % int(n))\n"
     ]
    },
    {
     "name": "stdout",
     "output_type": "stream",
     "text": [
      "                            OLS Regression Results                            \n",
      "==============================================================================\n",
      "Dep. Variable:     StockExcessReturns   R-squared:                       0.075\n",
      "Model:                            OLS   Adj. R-squared:                 -0.041\n",
      "Method:                 Least Squares   F-statistic:                    0.6450\n",
      "Date:                Tue, 14 Aug 2018   Prob (F-statistic):              0.445\n",
      "Time:                        12:22:43   Log-Likelihood:                 14.847\n",
      "No. Observations:                  10   AIC:                            -25.69\n",
      "Df Residuals:                       8   BIC:                            -25.09\n",
      "Df Model:                           1                                         \n",
      "Covariance Type:            nonrobust                                         \n",
      "==============================================================================\n",
      "                 coef    std err          t      P>|t|      [0.025      0.975]\n",
      "------------------------------------------------------------------------------\n",
      "const          0.0057      0.020      0.280      0.786      -0.041       0.053\n",
      "MRP            0.6430      0.801      0.803      0.445      -1.203       2.489\n",
      "==============================================================================\n",
      "Omnibus:                        0.822   Durbin-Watson:                   2.913\n",
      "Prob(Omnibus):                  0.663   Jarque-Bera (JB):                0.205\n",
      "Skew:                          -0.340   Prob(JB):                        0.903\n",
      "Kurtosis:                       2.826   Cond. No.                         41.3\n",
      "==============================================================================\n",
      "\n",
      "Warnings:\n",
      "[1] Standard Errors assume that the covariance matrix of the errors is correctly specified.\n"
     ]
    },
    {
     "data": {
      "text/markdown": [
       "<br /> <h3>KELE</h3>"
      ],
      "text/plain": [
       "<IPython.core.display.Markdown object>"
      ]
     },
     "metadata": {},
     "output_type": "display_data"
    },
    {
     "name": "stdout",
     "output_type": "stream",
     "text": [
      "           Date       MRP  StockLogReturns  BondsLogReturn  StockExcessReturns\n",
      "0  Jun 25, 2018  0.075109         0.009390       -0.051593            0.060983\n",
      "1  Jun 22, 2018  0.020370         0.027652        0.000118            0.027534\n",
      "2  Jun 21, 2018  0.009402         0.026907        0.000000            0.026907\n",
      "3  Jun 20, 2018  0.015722        -0.008889        0.000118           -0.009007\n",
      "4  Jun 19, 2018  0.001260         0.008889       -0.000118            0.009007\n",
      "\n",
      "\n",
      "                            OLS Regression Results                            \n",
      "==============================================================================\n",
      "Dep. Variable:     StockExcessReturns   R-squared:                       0.554\n",
      "Model:                            OLS   Adj. R-squared:                  0.526\n",
      "Method:                 Least Squares   F-statistic:                     19.85\n",
      "Date:                Tue, 14 Aug 2018   Prob (F-statistic):           0.000399\n",
      "Time:                        12:22:43   Log-Likelihood:                 53.064\n",
      "No. Observations:                  18   AIC:                            -102.1\n",
      "Df Residuals:                      16   BIC:                            -100.3\n",
      "Df Model:                           1                                         \n",
      "Covariance Type:            nonrobust                                         \n",
      "==============================================================================\n",
      "                 coef    std err          t      P>|t|      [0.025      0.975]\n",
      "------------------------------------------------------------------------------\n",
      "const          0.0056      0.003      1.712      0.106      -0.001       0.012\n",
      "MRP            0.7193      0.161      4.455      0.000       0.377       1.062\n",
      "==============================================================================\n",
      "Omnibus:                        2.723   Durbin-Watson:                   2.611\n",
      "Prob(Omnibus):                  0.256   Jarque-Bera (JB):                1.893\n",
      "Skew:                          -0.785   Prob(JB):                        0.388\n",
      "Kurtosis:                       2.759   Cond. No.                         50.9\n",
      "==============================================================================\n",
      "\n",
      "Warnings:\n",
      "[1] Standard Errors assume that the covariance matrix of the errors is correctly specified.\n"
     ]
    },
    {
     "name": "stderr",
     "output_type": "stream",
     "text": [
      "/usr/local/lib/python2.7/dist-packages/scipy/stats/stats.py:1394: UserWarning: kurtosistest only valid for n>=20 ... continuing anyway, n=18\n",
      "  \"anyway, n=%i\" % int(n))\n"
     ]
    },
    {
     "data": {
      "text/markdown": [
       "<br /> <h3>MPLF</h3>"
      ],
      "text/plain": [
       "<IPython.core.display.Markdown object>"
      ]
     },
     "metadata": {},
     "output_type": "display_data"
    },
    {
     "name": "stdout",
     "output_type": "stream",
     "text": [
      "           Date       MRP  StockLogReturns  BondsLogReturn  StockExcessReturns\n",
      "0  Jun 25, 2018  0.075109         0.051427       -0.051593            0.103020\n",
      "1  Jun 22, 2018  0.020370         0.058339        0.000118            0.058221\n",
      "2  Jun 21, 2018  0.009402         0.030264        0.000000            0.030264\n",
      "3  Jun 20, 2018  0.015722         0.048433        0.000118            0.048315\n",
      "4  Jun 19, 2018  0.001260         0.010152       -0.000118            0.010270\n",
      "\n",
      "\n",
      "                            OLS Regression Results                            \n",
      "==============================================================================\n",
      "Dep. Variable:     StockExcessReturns   R-squared:                       0.707\n",
      "Model:                            OLS   Adj. R-squared:                  0.689\n",
      "Method:                 Least Squares   F-statistic:                     38.68\n",
      "Date:                Tue, 14 Aug 2018   Prob (F-statistic):           1.23e-05\n",
      "Time:                        12:22:43   Log-Likelihood:                 46.131\n",
      "No. Observations:                  18   AIC:                            -88.26\n",
      "Df Residuals:                      16   BIC:                            -86.48\n",
      "Df Model:                           1                                         \n",
      "Covariance Type:            nonrobust                                         \n",
      "==============================================================================\n",
      "                 coef    std err          t      P>|t|      [0.025      0.975]\n",
      "------------------------------------------------------------------------------\n",
      "const          0.0131      0.005      2.736      0.015       0.003       0.023\n",
      "MRP            1.4761      0.237      6.219      0.000       0.973       1.979\n",
      "==============================================================================\n",
      "Omnibus:                        2.085   Durbin-Watson:                   2.454\n",
      "Prob(Omnibus):                  0.353   Jarque-Bera (JB):                0.937\n",
      "Skew:                           0.549   Prob(JB):                        0.626\n",
      "Kurtosis:                       3.204   Cond. No.                         50.9\n",
      "==============================================================================\n",
      "\n",
      "Warnings:\n",
      "[1] Standard Errors assume that the covariance matrix of the errors is correctly specified.\n"
     ]
    },
    {
     "name": "stderr",
     "output_type": "stream",
     "text": [
      "/usr/local/lib/python2.7/dist-packages/scipy/stats/stats.py:1394: UserWarning: kurtosistest only valid for n>=20 ... continuing anyway, n=18\n",
      "  \"anyway, n=%i\" % int(n))\n"
     ]
    },
    {
     "data": {
      "text/markdown": [
       "<br /> <h3>ATOR</h3>"
      ],
      "text/plain": [
       "<IPython.core.display.Markdown object>"
      ]
     },
     "metadata": {},
     "output_type": "display_data"
    },
    {
     "name": "stdout",
     "output_type": "stream",
     "text": [
      "           Date       MRP  StockLogReturns  BondsLogReturn  StockExcessReturns\n",
      "0  Jun 25, 2018  0.075109         0.025740       -0.051593            0.077334\n",
      "1  Jun 22, 2018  0.020370         0.007034        0.000118            0.006916\n",
      "2  Jun 21, 2018  0.009402         0.013921        0.000000            0.013921\n",
      "3  Jun 20, 2018  0.015722         0.042892        0.000118            0.042774\n",
      "4  Jun 19, 2018  0.001260        -0.006689       -0.000118           -0.006571\n",
      "\n",
      "\n",
      "                            OLS Regression Results                            \n",
      "==============================================================================\n",
      "Dep. Variable:     StockExcessReturns   R-squared:                       0.451\n",
      "Model:                            OLS   Adj. R-squared:                  0.416\n",
      "Method:                 Least Squares   F-statistic:                     13.12\n",
      "Date:                Tue, 14 Aug 2018   Prob (F-statistic):            0.00229\n",
      "Time:                        12:22:43   Log-Likelihood:                 37.644\n",
      "No. Observations:                  18   AIC:                            -71.29\n",
      "Df Residuals:                      16   BIC:                            -69.51\n",
      "Df Model:                           1                                         \n",
      "Covariance Type:            nonrobust                                         \n",
      "==============================================================================\n",
      "                 coef    std err          t      P>|t|      [0.025      0.975]\n",
      "------------------------------------------------------------------------------\n",
      "const         -0.0084      0.008     -1.100      0.288      -0.025       0.008\n",
      "MRP            1.3774      0.380      3.622      0.002       0.571       2.184\n",
      "==============================================================================\n",
      "Omnibus:                        3.959   Durbin-Watson:                   1.389\n",
      "Prob(Omnibus):                  0.138   Jarque-Bera (JB):                1.527\n",
      "Skew:                           0.283   Prob(JB):                        0.466\n",
      "Kurtosis:                       1.691   Cond. No.                         50.9\n",
      "==============================================================================\n",
      "\n",
      "Warnings:\n",
      "[1] Standard Errors assume that the covariance matrix of the errors is correctly specified.\n"
     ]
    },
    {
     "name": "stderr",
     "output_type": "stream",
     "text": [
      "/usr/local/lib/python2.7/dist-packages/scipy/stats/stats.py:1394: UserWarning: kurtosistest only valid for n>=20 ... continuing anyway, n=18\n",
      "  \"anyway, n=%i\" % int(n))\n"
     ]
    },
    {
     "data": {
      "text/markdown": [
       "<br /> <h3>NISM</h3>"
      ],
      "text/plain": [
       "<IPython.core.display.Markdown object>"
      ]
     },
     "metadata": {},
     "output_type": "display_data"
    },
    {
     "name": "stdout",
     "output_type": "stream",
     "text": [
      "           Date       MRP  StockLogReturns  BondsLogReturn  StockExcessReturns\n",
      "0  Jun 25, 2018  0.075109         0.022828       -0.051593            0.074421\n",
      "1  Jun 22, 2018  0.020370         0.020619        0.000118            0.020502\n",
      "2  Jun 21, 2018  0.009402        -0.019856        0.000000           -0.019856\n",
      "3  Jun 20, 2018  0.015722         0.053304        0.000118            0.053186\n",
      "4  Jun 19, 2018  0.001260         0.006623       -0.000118            0.006740\n",
      "\n",
      "\n",
      "                            OLS Regression Results                            \n",
      "==============================================================================\n",
      "Dep. Variable:     StockExcessReturns   R-squared:                       0.438\n",
      "Model:                            OLS   Adj. R-squared:                  0.403\n",
      "Method:                 Least Squares   F-statistic:                     12.48\n",
      "Date:                Tue, 14 Aug 2018   Prob (F-statistic):            0.00277\n",
      "Time:                        12:22:44   Log-Likelihood:                 40.210\n",
      "No. Observations:                  18   AIC:                            -76.42\n",
      "Df Residuals:                      16   BIC:                            -74.64\n",
      "Df Model:                           1                                         \n",
      "Covariance Type:            nonrobust                                         \n",
      "==============================================================================\n",
      "                 coef    std err          t      P>|t|      [0.025      0.975]\n",
      "------------------------------------------------------------------------------\n",
      "const         -0.0057      0.007     -0.865      0.400      -0.020       0.008\n",
      "MRP            1.1648      0.330      3.532      0.003       0.466       1.864\n",
      "==============================================================================\n",
      "Omnibus:                        0.213   Durbin-Watson:                   2.186\n",
      "Prob(Omnibus):                  0.899   Jarque-Bera (JB):                0.405\n",
      "Skew:                          -0.135   Prob(JB):                        0.817\n",
      "Kurtosis:                       2.317   Cond. No.                         50.9\n",
      "==============================================================================\n",
      "\n",
      "Warnings:\n",
      "[1] Standard Errors assume that the covariance matrix of the errors is correctly specified.\n"
     ]
    },
    {
     "name": "stderr",
     "output_type": "stream",
     "text": [
      "/usr/local/lib/python2.7/dist-packages/scipy/stats/stats.py:1394: UserWarning: kurtosistest only valid for n>=20 ... continuing anyway, n=18\n",
      "  \"anyway, n=%i\" % int(n))\n"
     ]
    },
    {
     "data": {
      "text/markdown": [
       "<br /> <h3>DGKH</h3>"
      ],
      "text/plain": [
       "<IPython.core.display.Markdown object>"
      ]
     },
     "metadata": {},
     "output_type": "display_data"
    },
    {
     "name": "stdout",
     "output_type": "stream",
     "text": [
      "           Date       MRP  StockLogReturns  BondsLogReturn  StockExcessReturns\n",
      "0  Jun 25, 2018  0.075109         0.013754       -0.051593            0.065347\n",
      "1  Jun 22, 2018  0.020370         0.043671        0.000118            0.043554\n",
      "2  Jun 21, 2018  0.009402         0.008425        0.000000            0.008425\n",
      "3  Jun 20, 2018  0.015722         0.026922        0.000118            0.026805\n",
      "4  Jun 19, 2018  0.001260        -0.000165       -0.000118           -0.000047\n",
      "\n",
      "\n",
      "                            OLS Regression Results                            \n",
      "==============================================================================\n",
      "Dep. Variable:     StockExcessReturns   R-squared:                       0.582\n",
      "Model:                            OLS   Adj. R-squared:                  0.556\n",
      "Method:                 Least Squares   F-statistic:                     22.28\n",
      "Date:                Tue, 14 Aug 2018   Prob (F-statistic):           0.000231\n",
      "Time:                        12:22:44   Log-Likelihood:                 46.093\n",
      "No. Observations:                  18   AIC:                            -88.19\n",
      "Df Residuals:                      16   BIC:                            -86.40\n",
      "Df Model:                           1                                         \n",
      "Covariance Type:            nonrobust                                         \n",
      "==============================================================================\n",
      "                 coef    std err          t      P>|t|      [0.025      0.975]\n",
      "------------------------------------------------------------------------------\n",
      "const          0.0047      0.005      0.981      0.341      -0.005       0.015\n",
      "MRP            1.1226      0.238      4.720      0.000       0.618       1.627\n",
      "==============================================================================\n",
      "Omnibus:                        1.624   Durbin-Watson:                   2.083\n",
      "Prob(Omnibus):                  0.444   Jarque-Bera (JB):                0.960\n",
      "Skew:                           0.562   Prob(JB):                        0.619\n",
      "Kurtosis:                       2.866   Cond. No.                         50.9\n",
      "==============================================================================\n",
      "\n",
      "Warnings:\n",
      "[1] Standard Errors assume that the covariance matrix of the errors is correctly specified.\n"
     ]
    },
    {
     "name": "stderr",
     "output_type": "stream",
     "text": [
      "/usr/local/lib/python2.7/dist-packages/scipy/stats/stats.py:1394: UserWarning: kurtosistest only valid for n>=20 ... continuing anyway, n=18\n",
      "  \"anyway, n=%i\" % int(n))\n"
     ]
    },
    {
     "data": {
      "text/markdown": [
       "<br /> <h3>PACK</h3>"
      ],
      "text/plain": [
       "<IPython.core.display.Markdown object>"
      ]
     },
     "metadata": {},
     "output_type": "display_data"
    },
    {
     "name": "stdout",
     "output_type": "stream",
     "text": [
      "           Date       MRP  StockLogReturns  BondsLogReturn  StockExcessReturns\n",
      "0  Jun 25, 2018  0.075109        -0.021053       -0.051593            0.030540\n",
      "1  Jun 22, 2018  0.020370         0.000000        0.000118           -0.000118\n",
      "2  Jun 21, 2018  0.009402         0.053843        0.000000            0.053843\n",
      "3  Jun 20, 2018  0.015722         0.005830        0.000118            0.005712\n",
      "4  Jun 19, 2018  0.001260        -0.001504       -0.000118           -0.001387\n",
      "\n",
      "\n",
      "                            OLS Regression Results                            \n",
      "==============================================================================\n",
      "Dep. Variable:     StockExcessReturns   R-squared:                       0.110\n",
      "Model:                            OLS   Adj. R-squared:                  0.055\n",
      "Method:                 Least Squares   F-statistic:                     1.984\n",
      "Date:                Tue, 14 Aug 2018   Prob (F-statistic):              0.178\n",
      "Time:                        12:22:44   Log-Likelihood:                 41.356\n",
      "No. Observations:                  18   AIC:                            -78.71\n",
      "Df Residuals:                      16   BIC:                            -76.93\n",
      "Df Model:                           1                                         \n",
      "Covariance Type:            nonrobust                                         \n",
      "==============================================================================\n",
      "                 coef    std err          t      P>|t|      [0.025      0.975]\n",
      "------------------------------------------------------------------------------\n",
      "const          0.0015      0.006      0.236      0.817      -0.012       0.015\n",
      "MRP            0.4358      0.309      1.408      0.178      -0.220       1.092\n",
      "==============================================================================\n",
      "Omnibus:                        1.119   Durbin-Watson:                   2.784\n",
      "Prob(Omnibus):                  0.571   Jarque-Bera (JB):                0.859\n",
      "Skew:                           0.497   Prob(JB):                        0.651\n",
      "Kurtosis:                       2.602   Cond. No.                         50.9\n",
      "==============================================================================\n",
      "\n",
      "Warnings:\n",
      "[1] Standard Errors assume that the covariance matrix of the errors is correctly specified.\n"
     ]
    },
    {
     "name": "stderr",
     "output_type": "stream",
     "text": [
      "/usr/local/lib/python2.7/dist-packages/scipy/stats/stats.py:1394: UserWarning: kurtosistest only valid for n>=20 ... continuing anyway, n=18\n",
      "  \"anyway, n=%i\" % int(n))\n"
     ]
    },
    {
     "data": {
      "text/markdown": [
       "<br /> <h3>LUKC</h3>"
      ],
      "text/plain": [
       "<IPython.core.display.Markdown object>"
      ]
     },
     "metadata": {},
     "output_type": "display_data"
    },
    {
     "name": "stdout",
     "output_type": "stream",
     "text": [
      "           Date       MRP  StockLogReturns  BondsLogReturn  StockExcessReturns\n",
      "0  Jun 25, 2018  0.075109         0.051273       -0.051593            0.102867\n",
      "1  Jun 22, 2018  0.020370         0.017860        0.000118            0.017742\n",
      "2  Jun 21, 2018  0.009402         0.005896        0.000000            0.005896\n",
      "3  Jun 20, 2018  0.015722         0.047635        0.000118            0.047518\n",
      "4  Jun 19, 2018  0.001260         0.014788       -0.000118            0.014906\n",
      "\n",
      "\n",
      "                            OLS Regression Results                            \n",
      "==============================================================================\n",
      "Dep. Variable:     StockExcessReturns   R-squared:                       0.789\n",
      "Model:                            OLS   Adj. R-squared:                  0.776\n",
      "Method:                 Least Squares   F-statistic:                     59.79\n",
      "Date:                Tue, 14 Aug 2018   Prob (F-statistic):           8.60e-07\n",
      "Time:                        12:22:44   Log-Likelihood:                 51.704\n",
      "No. Observations:                  18   AIC:                            -99.41\n",
      "Df Residuals:                      16   BIC:                            -97.63\n",
      "Df Model:                           1                                         \n",
      "Covariance Type:            nonrobust                                         \n",
      "==============================================================================\n",
      "                 coef    std err          t      P>|t|      [0.025      0.975]\n",
      "------------------------------------------------------------------------------\n",
      "const          0.0034      0.004      0.967      0.348      -0.004       0.011\n",
      "MRP            1.3465      0.174      7.732      0.000       0.977       1.716\n",
      "==============================================================================\n",
      "Omnibus:                        1.153   Durbin-Watson:                   1.624\n",
      "Prob(Omnibus):                  0.562   Jarque-Bera (JB):                0.814\n",
      "Skew:                          -0.136   Prob(JB):                        0.666\n",
      "Kurtosis:                       1.994   Cond. No.                         50.9\n",
      "==============================================================================\n",
      "\n",
      "Warnings:\n",
      "[1] Standard Errors assume that the covariance matrix of the errors is correctly specified.\n"
     ]
    },
    {
     "name": "stderr",
     "output_type": "stream",
     "text": [
      "/usr/local/lib/python2.7/dist-packages/scipy/stats/stats.py:1394: UserWarning: kurtosistest only valid for n>=20 ... continuing anyway, n=18\n",
      "  \"anyway, n=%i\" % int(n))\n"
     ]
    },
    {
     "data": {
      "text/markdown": [
       "<br /> <h3>EGCH</h3>"
      ],
      "text/plain": [
       "<IPython.core.display.Markdown object>"
      ]
     },
     "metadata": {},
     "output_type": "display_data"
    },
    {
     "name": "stdout",
     "output_type": "stream",
     "text": [
      "           Date       MRP  StockLogReturns  BondsLogReturn  StockExcessReturns\n",
      "0  Jun 25, 2018  0.075109         0.001946       -0.051593            0.053539\n",
      "1  Jun 22, 2018  0.020370         0.020527        0.000118            0.020409\n",
      "2  Jun 21, 2018  0.009402        -0.003180        0.000000           -0.003180\n",
      "3  Jun 20, 2018  0.015722         0.019240        0.000118            0.019123\n",
      "4  Jun 19, 2018  0.001260         0.004364       -0.000118            0.004482\n",
      "\n",
      "\n",
      "                            OLS Regression Results                            \n",
      "==============================================================================\n",
      "Dep. Variable:     StockExcessReturns   R-squared:                       0.685\n",
      "Model:                            OLS   Adj. R-squared:                  0.665\n",
      "Method:                 Least Squares   F-statistic:                     34.81\n",
      "Date:                Tue, 14 Aug 2018   Prob (F-statistic):           2.24e-05\n",
      "Time:                        12:22:44   Log-Likelihood:                 55.034\n",
      "No. Observations:                  18   AIC:                            -106.1\n",
      "Df Residuals:                      16   BIC:                            -104.3\n",
      "Df Model:                           1                                         \n",
      "Covariance Type:            nonrobust                                         \n",
      "==============================================================================\n",
      "                 coef    std err          t      P>|t|      [0.025      0.975]\n",
      "------------------------------------------------------------------------------\n",
      "const         -0.0034      0.003     -1.161      0.263      -0.010       0.003\n",
      "MRP            0.8539      0.145      5.900      0.000       0.547       1.161\n",
      "==============================================================================\n",
      "Omnibus:                        1.209   Durbin-Watson:                   1.546\n",
      "Prob(Omnibus):                  0.546   Jarque-Bera (JB):                0.535\n",
      "Skew:                          -0.422   Prob(JB):                        0.765\n",
      "Kurtosis:                       2.997   Cond. No.                         50.9\n",
      "==============================================================================\n",
      "\n",
      "Warnings:\n",
      "[1] Standard Errors assume that the covariance matrix of the errors is correctly specified.\n"
     ]
    },
    {
     "name": "stderr",
     "output_type": "stream",
     "text": [
      "/usr/local/lib/python2.7/dist-packages/scipy/stats/stats.py:1394: UserWarning: kurtosistest only valid for n>=20 ... continuing anyway, n=18\n",
      "  \"anyway, n=%i\" % int(n))\n"
     ]
    },
    {
     "data": {
      "text/markdown": [
       "<br /> <h3>MARI</h3>"
      ],
      "text/plain": [
       "<IPython.core.display.Markdown object>"
      ]
     },
     "metadata": {},
     "output_type": "display_data"
    },
    {
     "name": "stdout",
     "output_type": "stream",
     "text": [
      "           Date       MRP  StockLogReturns  BondsLogReturn  StockExcessReturns\n",
      "0  Jun 25, 2018  0.075109         0.000000       -0.051593            0.051593\n",
      "1  Jun 22, 2018  0.020370         0.051793        0.000118            0.051676\n",
      "2  Jun 21, 2018  0.009402         0.048766        0.000000            0.048766\n",
      "3  Jun 14, 2018 -0.005394        -0.000476        0.000000           -0.000476\n",
      "4  Jun 11, 2018  0.006764         0.011834        0.000000            0.011834\n",
      "\n",
      "\n",
      "                            OLS Regression Results                            \n",
      "==============================================================================\n",
      "Dep. Variable:     StockExcessReturns   R-squared:                       0.075\n",
      "Model:                            OLS   Adj. R-squared:                 -0.041\n",
      "Method:                 Least Squares   F-statistic:                    0.6450\n",
      "Date:                Tue, 14 Aug 2018   Prob (F-statistic):              0.445\n",
      "Time:                        12:22:44   Log-Likelihood:                 14.847\n",
      "No. Observations:                  10   AIC:                            -25.69\n",
      "Df Residuals:                       8   BIC:                            -25.09\n",
      "Df Model:                           1                                         \n",
      "Covariance Type:            nonrobust                                         \n",
      "==============================================================================\n",
      "                 coef    std err          t      P>|t|      [0.025      0.975]\n",
      "------------------------------------------------------------------------------\n",
      "const          0.0057      0.020      0.280      0.786      -0.041       0.053\n",
      "MRP            0.6430      0.801      0.803      0.445      -1.203       2.489\n",
      "==============================================================================\n",
      "Omnibus:                        0.822   Durbin-Watson:                   2.913\n",
      "Prob(Omnibus):                  0.663   Jarque-Bera (JB):                0.205\n",
      "Skew:                          -0.340   Prob(JB):                        0.903\n",
      "Kurtosis:                       2.826   Cond. No.                         41.3\n",
      "==============================================================================\n",
      "\n",
      "Warnings:\n",
      "[1] Standard Errors assume that the covariance matrix of the errors is correctly specified.\n"
     ]
    },
    {
     "name": "stderr",
     "output_type": "stream",
     "text": [
      "/usr/local/lib/python2.7/dist-packages/scipy/stats/stats.py:1394: UserWarning: kurtosistest only valid for n>=20 ... continuing anyway, n=10\n",
      "  \"anyway, n=%i\" % int(n))\n"
     ]
    },
    {
     "data": {
      "text/markdown": [
       "<br /> <h3>PKEL</h3>"
      ],
      "text/plain": [
       "<IPython.core.display.Markdown object>"
      ]
     },
     "metadata": {},
     "output_type": "display_data"
    },
    {
     "name": "stdout",
     "output_type": "stream",
     "text": [
      "           Date       MRP  StockLogReturns  BondsLogReturn  StockExcessReturns\n",
      "0  Jun 25, 2018  0.075109         0.038765       -0.051593            0.090358\n",
      "1  Jun 22, 2018  0.020370         0.048804        0.000118            0.048686\n",
      "2  Jun 21, 2018  0.009402        -0.014308        0.000000           -0.014308\n",
      "3  Jun 20, 2018  0.015722         0.057912        0.000118            0.057794\n",
      "4  Jun 19, 2018  0.001260        -0.022928       -0.000118           -0.022810\n",
      "\n",
      "\n",
      "                            OLS Regression Results                            \n",
      "==============================================================================\n",
      "Dep. Variable:     StockExcessReturns   R-squared:                       0.558\n",
      "Model:                            OLS   Adj. R-squared:                  0.530\n",
      "Method:                 Least Squares   F-statistic:                     20.19\n",
      "Date:                Tue, 14 Aug 2018   Prob (F-statistic):           0.000368\n",
      "Time:                        12:22:44   Log-Likelihood:                 38.677\n",
      "No. Observations:                  18   AIC:                            -73.35\n",
      "Df Residuals:                      16   BIC:                            -71.57\n",
      "Df Model:                           1                                         \n",
      "Covariance Type:            nonrobust                                         \n",
      "==============================================================================\n",
      "                 coef    std err          t      P>|t|      [0.025      0.975]\n",
      "------------------------------------------------------------------------------\n",
      "const         -0.0032      0.007     -0.446      0.661      -0.019       0.012\n",
      "MRP            1.6136      0.359      4.494      0.000       0.852       2.375\n",
      "==============================================================================\n",
      "Omnibus:                        0.548   Durbin-Watson:                   1.972\n",
      "Prob(Omnibus):                  0.760   Jarque-Bera (JB):                0.625\n",
      "Skew:                          -0.254   Prob(JB):                        0.731\n",
      "Kurtosis:                       2.241   Cond. No.                         50.9\n",
      "==============================================================================\n",
      "\n",
      "Warnings:\n",
      "[1] Standard Errors assume that the covariance matrix of the errors is correctly specified.\n"
     ]
    },
    {
     "name": "stderr",
     "output_type": "stream",
     "text": [
      "/usr/local/lib/python2.7/dist-packages/scipy/stats/stats.py:1394: UserWarning: kurtosistest only valid for n>=20 ... continuing anyway, n=18\n",
      "  \"anyway, n=%i\" % int(n))\n"
     ]
    },
    {
     "data": {
      "text/markdown": [
       "<br /> <h3>PPL</h3>"
      ],
      "text/plain": [
       "<IPython.core.display.Markdown object>"
      ]
     },
     "metadata": {},
     "output_type": "display_data"
    },
    {
     "name": "stdout",
     "output_type": "stream",
     "text": [
      "           Date       MRP  StockLogReturns  BondsLogReturn  StockExcessReturns\n",
      "0  Jun 25, 2018  0.075109         0.002846       -0.051593            0.054440\n",
      "1  Jun 22, 2018  0.020370         0.027796        0.000118            0.027678\n",
      "2  Jun 21, 2018  0.009402         0.022640        0.000000            0.022640\n",
      "3  Jun 20, 2018  0.015722         0.000045        0.000118           -0.000073\n",
      "4  Jun 19, 2018  0.001260        -0.004650       -0.000118           -0.004532\n",
      "\n",
      "\n",
      "                            OLS Regression Results                            \n",
      "==============================================================================\n",
      "Dep. Variable:     StockExcessReturns   R-squared:                       0.693\n",
      "Model:                            OLS   Adj. R-squared:                  0.674\n",
      "Method:                 Least Squares   F-statistic:                     36.10\n",
      "Date:                Tue, 14 Aug 2018   Prob (F-statistic):           1.82e-05\n",
      "Time:                        12:22:44   Log-Likelihood:                 58.510\n",
      "No. Observations:                  18   AIC:                            -113.0\n",
      "Df Residuals:                      16   BIC:                            -111.2\n",
      "Df Model:                           1                                         \n",
      "Covariance Type:            nonrobust                                         \n",
      "==============================================================================\n",
      "                 coef    std err          t      P>|t|      [0.025      0.975]\n",
      "------------------------------------------------------------------------------\n",
      "const         -0.0004      0.002     -0.182      0.858      -0.006       0.005\n",
      "MRP            0.7169      0.119      6.008      0.000       0.464       0.970\n",
      "==============================================================================\n",
      "Omnibus:                        3.089   Durbin-Watson:                   2.388\n",
      "Prob(Omnibus):                  0.213   Jarque-Bera (JB):                1.796\n",
      "Skew:                           0.772   Prob(JB):                        0.407\n",
      "Kurtosis:                       3.096   Cond. No.                         50.9\n",
      "==============================================================================\n",
      "\n",
      "Warnings:\n",
      "[1] Standard Errors assume that the covariance matrix of the errors is correctly specified.\n"
     ]
    },
    {
     "name": "stderr",
     "output_type": "stream",
     "text": [
      "/usr/local/lib/python2.7/dist-packages/scipy/stats/stats.py:1394: UserWarning: kurtosistest only valid for n>=20 ... continuing anyway, n=18\n",
      "  \"anyway, n=%i\" % int(n))\n"
     ]
    },
    {
     "data": {
      "text/markdown": [
       "<br /> <h3>GLAO</h3>"
      ],
      "text/plain": [
       "<IPython.core.display.Markdown object>"
      ]
     },
     "metadata": {},
     "output_type": "display_data"
    },
    {
     "name": "stdout",
     "output_type": "stream",
     "text": [
      "           Date       MRP  StockLogReturns  BondsLogReturn  StockExcessReturns\n",
      "0  Jun 25, 2018  0.075109         0.022044       -0.051593            0.073638\n",
      "1  Jun 22, 2018  0.020370         0.020992        0.000118            0.020874\n",
      "2  Jun 21, 2018  0.009402        -0.002403        0.000000           -0.002403\n",
      "3  Jun 20, 2018  0.015722         0.051166        0.000118            0.051048\n",
      "4  Jun 19, 2018  0.001260        -0.033189       -0.000118           -0.033072\n",
      "\n",
      "\n",
      "                            OLS Regression Results                            \n",
      "==============================================================================\n",
      "Dep. Variable:     StockExcessReturns   R-squared:                       0.256\n",
      "Model:                            OLS   Adj. R-squared:                  0.209\n",
      "Method:                 Least Squares   F-statistic:                     5.494\n",
      "Date:                Tue, 14 Aug 2018   Prob (F-statistic):             0.0323\n",
      "Time:                        12:22:44   Log-Likelihood:                 35.375\n",
      "No. Observations:                  18   AIC:                            -66.75\n",
      "Df Residuals:                      16   BIC:                            -64.97\n",
      "Df Model:                           1                                         \n",
      "Covariance Type:            nonrobust                                         \n",
      "==============================================================================\n",
      "                 coef    std err          t      P>|t|      [0.025      0.975]\n",
      "------------------------------------------------------------------------------\n",
      "const         -0.0052      0.009     -0.596      0.560      -0.024       0.013\n",
      "MRP            1.0112      0.431      2.344      0.032       0.097       1.926\n",
      "==============================================================================\n",
      "Omnibus:                        2.902   Durbin-Watson:                   2.292\n",
      "Prob(Omnibus):                  0.234   Jarque-Bera (JB):                1.117\n",
      "Skew:                          -0.483   Prob(JB):                        0.572\n",
      "Kurtosis:                       3.746   Cond. No.                         50.9\n",
      "==============================================================================\n",
      "\n",
      "Warnings:\n",
      "[1] Standard Errors assume that the covariance matrix of the errors is correctly specified.\n"
     ]
    },
    {
     "name": "stderr",
     "output_type": "stream",
     "text": [
      "/usr/local/lib/python2.7/dist-packages/scipy/stats/stats.py:1394: UserWarning: kurtosistest only valid for n>=20 ... continuing anyway, n=18\n",
      "  \"anyway, n=%i\" % int(n))\n"
     ]
    },
    {
     "data": {
      "text/markdown": [
       "<br /> <h3>EPCL</h3>"
      ],
      "text/plain": [
       "<IPython.core.display.Markdown object>"
      ]
     },
     "metadata": {},
     "output_type": "display_data"
    },
    {
     "name": "stdout",
     "output_type": "stream",
     "text": [
      "           Date       MRP  StockLogReturns  BondsLogReturn  StockExcessReturns\n",
      "0  Jun 25, 2018  0.075109         0.022728       -0.051593            0.074322\n",
      "1  Jun 22, 2018  0.020370         0.089016        0.000118            0.088898\n",
      "2  Jun 21, 2018  0.009402        -0.010332        0.000000           -0.010332\n",
      "3  Jun 20, 2018  0.015722         0.047518        0.000118            0.047400\n",
      "4  Jun 19, 2018  0.001260        -0.016836       -0.000118           -0.016718\n",
      "\n",
      "\n",
      "                            OLS Regression Results                            \n",
      "==============================================================================\n",
      "Dep. Variable:     StockExcessReturns   R-squared:                       0.432\n",
      "Model:                            OLS   Adj. R-squared:                  0.396\n",
      "Method:                 Least Squares   F-statistic:                     12.15\n",
      "Date:                Tue, 14 Aug 2018   Prob (F-statistic):            0.00305\n",
      "Time:                        12:22:44   Log-Likelihood:                 38.466\n",
      "No. Observations:                  18   AIC:                            -72.93\n",
      "Df Residuals:                      16   BIC:                            -71.15\n",
      "Df Model:                           1                                         \n",
      "Covariance Type:            nonrobust                                         \n",
      "==============================================================================\n",
      "                 coef    std err          t      P>|t|      [0.025      0.975]\n",
      "------------------------------------------------------------------------------\n",
      "const         -0.0025      0.007     -0.347      0.733      -0.018       0.013\n",
      "MRP            1.2667      0.363      3.486      0.003       0.496       2.037\n",
      "==============================================================================\n",
      "Omnibus:                        5.462   Durbin-Watson:                   2.711\n",
      "Prob(Omnibus):                  0.065   Jarque-Bera (JB):                3.423\n",
      "Skew:                          -0.430   Prob(JB):                        0.181\n",
      "Kurtosis:                       4.955   Cond. No.                         50.9\n",
      "==============================================================================\n",
      "\n",
      "Warnings:\n",
      "[1] Standard Errors assume that the covariance matrix of the errors is correctly specified.\n"
     ]
    },
    {
     "name": "stderr",
     "output_type": "stream",
     "text": [
      "/usr/local/lib/python2.7/dist-packages/scipy/stats/stats.py:1394: UserWarning: kurtosistest only valid for n>=20 ... continuing anyway, n=18\n",
      "  \"anyway, n=%i\" % int(n))\n"
     ]
    }
   ],
   "source": [
    "for stock in stocks:\n",
    "    name = stock.split(\" \")[0]\n",
    "    display(Markdown(\"<br /> <h3>\" + name + \"</h3>\"))\n",
    "    \n",
    "    e = pd.read_csv('capm/'+stock)\n",
    "    e['Open'] = e['Open'].map(lambda x: str(x).replace(\",\", \"\"))\n",
    "    e[\"StockLogReturns\"] = np.log(e['Open'].astype(\"float\")).diff()\n",
    "    \n",
    "    e = pd.merge(regression, e, how=\"inner\", on=\"Date\")[[\"Date\", \"MRP\", \"StockLogReturns\", \"BondsLogReturn\"]]\n",
    "    e['StockExcessReturns'] = e['StockLogReturns'] - e['BondsLogReturn']\n",
    "    \n",
    "    print(e.head())\n",
    "    print(\"\\n\")\n",
    "    \n",
    "    model = sm.OLS(e['StockExcessReturns'], sm.tools.add_constant(e['MRP'])).fit()\n",
    "    \n",
    "    models.update({name:[model, np.average(e['StockLogReturns'])]})\n",
    "    \n",
    "    print(model.summary())"
   ]
  },
  {
   "cell_type": "code",
   "execution_count": 18,
   "metadata": {},
   "outputs": [
    {
     "name": "stdout",
     "output_type": "stream",
     "text": [
      "28/30\n"
     ]
    }
   ],
   "source": [
    "count = 0\n",
    "for model in models:\n",
    "    if models[model][0].tvalues.const < 2:\n",
    "        count += 1\n",
    "print(str(count) + \"/\" + str(len(models.keys())))"
   ]
  },
  {
   "cell_type": "markdown",
   "metadata": {},
   "source": [
    "<h3>Number of Aphas < 2:&nbsp;&nbsp; 28 out of 30</h3>"
   ]
  },
  {
   "cell_type": "code",
   "execution_count": 19,
   "metadata": {},
   "outputs": [],
   "source": [
    "beta = []\n",
    "returns = []\n",
    "\n",
    "for model in models:\n",
    "    beta.append(models[model][0].params[1])\n",
    "    returns.append(models[model][1])"
   ]
  },
  {
   "cell_type": "code",
   "execution_count": 20,
   "metadata": {},
   "outputs": [
    {
     "data": {
      "text/html": [
       "<div>\n",
       "<style scoped>\n",
       "    .dataframe tbody tr th:only-of-type {\n",
       "        vertical-align: middle;\n",
       "    }\n",
       "\n",
       "    .dataframe tbody tr th {\n",
       "        vertical-align: top;\n",
       "    }\n",
       "\n",
       "    .dataframe thead th {\n",
       "        text-align: right;\n",
       "    }\n",
       "</style>\n",
       "<table border=\"1\" class=\"dataframe\">\n",
       "  <thead>\n",
       "    <tr style=\"text-align: right;\">\n",
       "      <th></th>\n",
       "      <th>Stock</th>\n",
       "      <th>Beta</th>\n",
       "      <th>Returns</th>\n",
       "    </tr>\n",
       "  </thead>\n",
       "  <tbody>\n",
       "    <tr>\n",
       "      <th>0</th>\n",
       "      <td>LUKC</td>\n",
       "      <td>1.346465184480641</td>\n",
       "      <td>0.006608441270075834</td>\n",
       "    </tr>\n",
       "    <tr>\n",
       "      <th>1</th>\n",
       "      <td>FAUC</td>\n",
       "      <td>1.4568608875583218</td>\n",
       "      <td>0.007013714456105201</td>\n",
       "    </tr>\n",
       "    <tr>\n",
       "      <th>2</th>\n",
       "      <td>ATOR</td>\n",
       "      <td>1.3774366062853622</td>\n",
       "      <td>-0.00508081963010534</td>\n",
       "    </tr>\n",
       "    <tr>\n",
       "      <th>3</th>\n",
       "      <td>SEAR</td>\n",
       "      <td>1.1013719338647743</td>\n",
       "      <td>-0.00579761129336588</td>\n",
       "    </tr>\n",
       "    <tr>\n",
       "      <th>4</th>\n",
       "      <td>SHEL</td>\n",
       "      <td>0.8687529898163716</td>\n",
       "      <td>0.003233812522109611</td>\n",
       "    </tr>\n",
       "    <tr>\n",
       "      <th>5</th>\n",
       "      <td>HASC</td>\n",
       "      <td>1.3984037627561894</td>\n",
       "      <td>0.005423419783424717</td>\n",
       "    </tr>\n",
       "    <tr>\n",
       "      <th>6</th>\n",
       "      <td>EPCL</td>\n",
       "      <td>1.2666536847533003</td>\n",
       "      <td>0.0003092997818684316</td>\n",
       "    </tr>\n",
       "    <tr>\n",
       "      <th>7</th>\n",
       "      <td>AKDC</td>\n",
       "      <td>-1.1600522884977005</td>\n",
       "      <td>0.007535478823893525</td>\n",
       "    </tr>\n",
       "    <tr>\n",
       "      <th>8</th>\n",
       "      <td>PKEL</td>\n",
       "      <td>1.613638209439337</td>\n",
       "      <td>0.0011865225982329432</td>\n",
       "    </tr>\n",
       "    <tr>\n",
       "      <th>9</th>\n",
       "      <td>GLAO</td>\n",
       "      <td>1.0111566558310694</td>\n",
       "      <td>-0.003480262953179874</td>\n",
       "    </tr>\n",
       "    <tr>\n",
       "      <th>10</th>\n",
       "      <td>MARI</td>\n",
       "      <td>0.6429592006048535</td>\n",
       "      <td>0.005628083589859001</td>\n",
       "    </tr>\n",
       "    <tr>\n",
       "      <th>11</th>\n",
       "      <td>ATOC</td>\n",
       "      <td>0.716919402460568</td>\n",
       "      <td>0.009423963056310115</td>\n",
       "    </tr>\n",
       "    <tr>\n",
       "      <th>12</th>\n",
       "      <td>MILM</td>\n",
       "      <td>0.7006985231966861</td>\n",
       "      <td>0.003310672066791377</td>\n",
       "    </tr>\n",
       "    <tr>\n",
       "      <th>13</th>\n",
       "      <td>DAWH</td>\n",
       "      <td>1.0608935852814514</td>\n",
       "      <td>0.00458201232356877</td>\n",
       "    </tr>\n",
       "    <tr>\n",
       "      <th>14</th>\n",
       "      <td>KAPCO</td>\n",
       "      <td>0.6554930006507633</td>\n",
       "      <td>-0.0014077739796314326</td>\n",
       "    </tr>\n",
       "    <tr>\n",
       "      <th>15</th>\n",
       "      <td>KELE</td>\n",
       "      <td>0.7192999662100027</td>\n",
       "      <td>0.005958085019644319</td>\n",
       "    </tr>\n",
       "    <tr>\n",
       "      <th>16</th>\n",
       "      <td>NISM</td>\n",
       "      <td>1.1647754856297547</td>\n",
       "      <td>-0.003355701199640176</td>\n",
       "    </tr>\n",
       "    <tr>\n",
       "      <th>17</th>\n",
       "      <td>NATR</td>\n",
       "      <td>0.6339196615305592</td>\n",
       "      <td>-0.015780467612028608</td>\n",
       "    </tr>\n",
       "    <tr>\n",
       "      <th>18</th>\n",
       "      <td>PIBT</td>\n",
       "      <td>0.8666407887837712</td>\n",
       "      <td>0.01562831805497347</td>\n",
       "    </tr>\n",
       "    <tr>\n",
       "      <th>19</th>\n",
       "      <td>SUIN</td>\n",
       "      <td>1.7951279437546324</td>\n",
       "      <td>0.0013390322504430114</td>\n",
       "    </tr>\n",
       "    <tr>\n",
       "      <th>20</th>\n",
       "      <td>EGCH</td>\n",
       "      <td>0.8539123083946948</td>\n",
       "      <td>-0.00239580147965299</td>\n",
       "    </tr>\n",
       "    <tr>\n",
       "      <th>21</th>\n",
       "      <td>SUIS</td>\n",
       "      <td>1.3682240786816728</td>\n",
       "      <td>0.003639452450556524</td>\n",
       "    </tr>\n",
       "    <tr>\n",
       "      <th>22</th>\n",
       "      <td>DGKH</td>\n",
       "      <td>1.1225668430963196</td>\n",
       "      <td>0.006904383798434931</td>\n",
       "    </tr>\n",
       "    <tr>\n",
       "      <th>23</th>\n",
       "      <td>TRGP</td>\n",
       "      <td>1.5763887529184382</td>\n",
       "      <td>-0.0044982812518704</td>\n",
       "    </tr>\n",
       "    <tr>\n",
       "      <th>24</th>\n",
       "      <td>PPL</td>\n",
       "      <td>0.7168664113473976</td>\n",
       "      <td>-6.337738748617304e-05</td>\n",
       "    </tr>\n",
       "    <tr>\n",
       "      <th>25</th>\n",
       "      <td>APL</td>\n",
       "      <td>0.8745719139921944</td>\n",
       "      <td>0.0013966566672623218</td>\n",
       "    </tr>\n",
       "    <tr>\n",
       "      <th>26</th>\n",
       "      <td>OGDC</td>\n",
       "      <td>0.836045085288218</td>\n",
       "      <td>0.0013472971136177945</td>\n",
       "    </tr>\n",
       "    <tr>\n",
       "      <th>27</th>\n",
       "      <td>MPLF</td>\n",
       "      <td>1.4760614097252787</td>\n",
       "      <td>0.016887539552104498</td>\n",
       "    </tr>\n",
       "    <tr>\n",
       "      <th>28</th>\n",
       "      <td>TRET</td>\n",
       "      <td>1.0180018844229277</td>\n",
       "      <td>0.0021205776956135175</td>\n",
       "    </tr>\n",
       "    <tr>\n",
       "      <th>29</th>\n",
       "      <td>PACK</td>\n",
       "      <td>0.4357988245177229</td>\n",
       "      <td>0.0005757103908637065</td>\n",
       "    </tr>\n",
       "  </tbody>\n",
       "</table>\n",
       "</div>"
      ],
      "text/plain": [
       "    Stock                 Beta                 Returns\n",
       "0    LUKC    1.346465184480641    0.006608441270075834\n",
       "1    FAUC   1.4568608875583218    0.007013714456105201\n",
       "2    ATOR   1.3774366062853622    -0.00508081963010534\n",
       "3    SEAR   1.1013719338647743    -0.00579761129336588\n",
       "4    SHEL   0.8687529898163716    0.003233812522109611\n",
       "5    HASC   1.3984037627561894    0.005423419783424717\n",
       "6    EPCL   1.2666536847533003   0.0003092997818684316\n",
       "7    AKDC  -1.1600522884977005    0.007535478823893525\n",
       "8    PKEL    1.613638209439337   0.0011865225982329432\n",
       "9    GLAO   1.0111566558310694   -0.003480262953179874\n",
       "10   MARI   0.6429592006048535    0.005628083589859001\n",
       "11   ATOC    0.716919402460568    0.009423963056310115\n",
       "12   MILM   0.7006985231966861    0.003310672066791377\n",
       "13   DAWH   1.0608935852814514     0.00458201232356877\n",
       "14  KAPCO   0.6554930006507633  -0.0014077739796314326\n",
       "15   KELE   0.7192999662100027    0.005958085019644319\n",
       "16   NISM   1.1647754856297547   -0.003355701199640176\n",
       "17   NATR   0.6339196615305592   -0.015780467612028608\n",
       "18   PIBT   0.8666407887837712     0.01562831805497347\n",
       "19   SUIN   1.7951279437546324   0.0013390322504430114\n",
       "20   EGCH   0.8539123083946948    -0.00239580147965299\n",
       "21   SUIS   1.3682240786816728    0.003639452450556524\n",
       "22   DGKH   1.1225668430963196    0.006904383798434931\n",
       "23   TRGP   1.5763887529184382     -0.0044982812518704\n",
       "24    PPL   0.7168664113473976  -6.337738748617304e-05\n",
       "25    APL   0.8745719139921944   0.0013966566672623218\n",
       "26   OGDC    0.836045085288218   0.0013472971136177945\n",
       "27   MPLF   1.4760614097252787    0.016887539552104498\n",
       "28   TRET   1.0180018844229277   0.0021205776956135175\n",
       "29   PACK   0.4357988245177229   0.0005757103908637065"
      ]
     },
     "execution_count": 20,
     "metadata": {},
     "output_type": "execute_result"
    }
   ],
   "source": [
    "df = pd.DataFrame(np.transpose([models.keys(), beta, returns]), columns=[\"Stock\", \"Beta\", \"Returns\"])\n",
    "df"
   ]
  },
  {
   "cell_type": "code",
   "execution_count": 21,
   "metadata": {},
   "outputs": [
    {
     "data": {
      "text/html": [
       "<table class=\"simpletable\">\n",
       "<tr>\n",
       "        <td>Model:</td>               <td>OLS</td>         <td>Adj. R-squared:</td>     <td>-0.033</td>  \n",
       "</tr>\n",
       "<tr>\n",
       "  <td>Dependent Variable:</td>         <td>y</td>               <td>AIC:</td>          <td>-215.1222</td>\n",
       "</tr>\n",
       "<tr>\n",
       "         <td>Date:</td>        <td>2018-08-14 12:22</td>        <td>BIC:</td>          <td>-212.3198</td>\n",
       "</tr>\n",
       "<tr>\n",
       "   <td>No. Observations:</td>         <td>30</td>          <td>Log-Likelihood:</td>     <td>109.56</td>  \n",
       "</tr>\n",
       "<tr>\n",
       "       <td>Df Model:</td>              <td>1</td>           <td>F-statistic:</td>       <td>0.06439</td> \n",
       "</tr>\n",
       "<tr>\n",
       "     <td>Df Residuals:</td>           <td>28</td>        <td>Prob (F-statistic):</td>    <td>0.802</td>  \n",
       "</tr>\n",
       "<tr>\n",
       "      <td>R-squared:</td>            <td>0.002</td>            <td>Scale:</td>        <td>4.2206e-05</td>\n",
       "</tr>\n",
       "</table>\n",
       "<table class=\"simpletable\">\n",
       "<tr>\n",
       "    <td></td>     <th>Coef.</th>  <th>Std.Err.</th>    <th>t</th>     <th>P>|t|</th> <th>[0.025</th>  <th>0.975]</th>\n",
       "</tr>\n",
       "<tr>\n",
       "  <th>const</th> <td>0.0028</td>   <td>0.0025</td>  <td>1.1251</td>  <td>0.2701</td> <td>-0.0023</td> <td>0.0080</td>\n",
       "</tr>\n",
       "<tr>\n",
       "  <th>x1</th>    <td>-0.0006</td>  <td>0.0023</td>  <td>-0.2538</td> <td>0.8015</td> <td>-0.0052</td> <td>0.0041</td>\n",
       "</tr>\n",
       "</table>\n",
       "<table class=\"simpletable\">\n",
       "<tr>\n",
       "     <td>Omnibus:</td>     <td>3.768</td>  <td>Durbin-Watson:</td>   <td>2.277</td>\n",
       "</tr>\n",
       "<tr>\n",
       "  <td>Prob(Omnibus):</td>  <td>0.152</td> <td>Jarque-Bera (JB):</td> <td>2.785</td>\n",
       "</tr>\n",
       "<tr>\n",
       "       <td>Skew:</td>     <td>-0.170</td>     <td>Prob(JB):</td>     <td>0.249</td>\n",
       "</tr>\n",
       "<tr>\n",
       "     <td>Kurtosis:</td>    <td>4.453</td>  <td>Condition No.:</td>     <td>4</td>  \n",
       "</tr>\n",
       "</table>"
      ],
      "text/plain": [
       "<class 'statsmodels.iolib.summary2.Summary'>\n",
       "\"\"\"\n",
       "                  Results: Ordinary least squares\n",
       "===================================================================\n",
       "Model:              OLS              Adj. R-squared:     -0.033    \n",
       "Dependent Variable: y                AIC:                -215.1222 \n",
       "Date:               2018-08-14 12:22 BIC:                -212.3198 \n",
       "No. Observations:   30               Log-Likelihood:     109.56    \n",
       "Df Model:           1                F-statistic:        0.06439   \n",
       "Df Residuals:       28               Prob (F-statistic): 0.802     \n",
       "R-squared:          0.002            Scale:              4.2206e-05\n",
       "----------------------------------------------------------------------\n",
       "          Coef.     Std.Err.       t       P>|t|      [0.025    0.975]\n",
       "----------------------------------------------------------------------\n",
       "const     0.0028      0.0025     1.1251    0.2701    -0.0023    0.0080\n",
       "x1       -0.0006      0.0023    -0.2538    0.8015    -0.0052    0.0041\n",
       "-------------------------------------------------------------------\n",
       "Omnibus:               3.768         Durbin-Watson:           2.277\n",
       "Prob(Omnibus):         0.152         Jarque-Bera (JB):        2.785\n",
       "Skew:                  -0.170        Prob(JB):                0.249\n",
       "Kurtosis:              4.453         Condition No.:           4    \n",
       "===================================================================\n",
       "\n",
       "\"\"\""
      ]
     },
     "execution_count": 21,
     "metadata": {},
     "output_type": "execute_result"
    }
   ],
   "source": [
    "reg = sm.OLS(np.asarray( df['Returns'].astype(\"float\") ), sm.add_constant( np.asarray( df['Beta'].astype(\"float\") ) )).fit()\n",
    "reg.summary2()"
   ]
  },
  {
   "cell_type": "code",
   "execution_count": 29,
   "metadata": {
    "scrolled": false
   },
   "outputs": [
    {
     "data": {
      "text/plain": [
       "([<matplotlib.axis.YTick at 0x7f9f25d8ca90>,\n",
       "  <matplotlib.axis.YTick at 0x7f9f25d8c550>,\n",
       "  <matplotlib.axis.YTick at 0x7f9f25fd3410>],\n",
       " <a list of 3 Text yticklabel objects>)"
      ]
     },
     "execution_count": 29,
     "metadata": {},
     "output_type": "execute_result"
    },
    {
     "data": {
      "image/png": "[encoded data removed]",
      "text/plain": [
       "<Figure size 720x720 with 1 Axes>"
      ]
     },
     "metadata": {},
     "output_type": "display_data"
    }
   ],
   "source": [
    "fig, ax = plt.subplots(figsize=(10, 10))\n",
    "\n",
    "ax.scatter(df['Beta'], df['Returns'])\n",
    "\n",
    "plt.xticks([1, (len(df)-1)/2, len(df)-1])\n",
    "plt.yticks([1, (len(df)-1)/2, len(df)-1])\n",
    "\n",
    "#ax.plot(df['Returns'].astype(\"float\"), df['Returns'].astype(\"float\")*reg.params[0] + reg.params[1])\n",
    "\n"
   ]
  },
  {
   "cell_type": "markdown",
   "metadata": {},
   "source": [
    "<h3>More than 90% of the Alphas are zero. According to the scatter plot the Betas are linearly correlated with the average returns. Evidence suggestes that the CAPM holds.</h3>"
   ]
  }
 ],
 "metadata": {
  "kernelspec": {
   "display_name": "Python 3",
   "language": "python",
   "name": "python3"
  },
  "language_info": {
   "codemirror_mode": {
    "name": "ipython",
    "version": 2
   },
   "file_extension": ".py",
   "mimetype": "text/x-python",
   "name": "python",
   "nbconvert_exporter": "python",
   "pygments_lexer": "ipython2",
   "version": "2.7.15rc1"
  }
 },
 "nbformat": 4,
 "nbformat_minor": 2
}
